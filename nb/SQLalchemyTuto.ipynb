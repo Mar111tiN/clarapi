{
 "cells": [
  {
   "cell_type": "markdown",
   "metadata": {},
   "source": [
    "### init the engine"
   ]
  },
  {
   "cell_type": "code",
   "execution_count": 17,
   "metadata": {
    "ExecuteTime": {
     "end_time": "2019-07-30T12:15:05.195451Z",
     "start_time": "2019-07-30T12:15:05.192132Z"
    }
   },
   "outputs": [],
   "source": [
    "from sqlalchemy import create_engine\n",
    "engine = create_engine('postgresql://mahtin@localhost:5432/mahtin', echo=True)"
   ]
  },
  {
   "cell_type": "markdown",
   "metadata": {},
   "source": [
    "### declare a schema"
   ]
  },
  {
   "cell_type": "code",
   "execution_count": 18,
   "metadata": {
    "ExecuteTime": {
     "end_time": "2019-07-30T12:15:06.085988Z",
     "start_time": "2019-07-30T12:15:06.082987Z"
    }
   },
   "outputs": [],
   "source": [
    "from sqlalchemy.ext.declarative import declarative_base\n",
    "Base = declarative_base()"
   ]
  },
  {
   "cell_type": "code",
   "execution_count": 19,
   "metadata": {
    "ExecuteTime": {
     "end_time": "2019-07-30T12:15:06.553360Z",
     "start_time": "2019-07-30T12:15:06.547002Z"
    }
   },
   "outputs": [],
   "source": [
    "from sqlalchemy import Column, Integer, String\n",
    "class User(Base):\n",
    "    __tablename__ = 'users'\n",
    "    \n",
    "    id = Column(Integer, primary_key=True)\n",
    "    name = Column(String(80))\n",
    "    fullname = Column(String(80))\n",
    "    nickname = Column(String(50))\n",
    "    \n",
    "    def __repr__(self):\n",
    "        return f\"<User(name={self.name}, fullname={self.fullname}, nickname={self.nickname})\""
   ]
  },
  {
   "cell_type": "markdown",
   "metadata": {},
   "source": [
    "### create the table(s)"
   ]
  },
  {
   "cell_type": "code",
   "execution_count": 20,
   "metadata": {
    "ExecuteTime": {
     "end_time": "2019-07-30T12:15:08.185199Z",
     "start_time": "2019-07-30T12:15:08.160481Z"
    }
   },
   "outputs": [
    {
     "name": "stdout",
     "output_type": "stream",
     "text": [
      "2019-07-30 14:15:08,170 INFO sqlalchemy.engine.base.Engine select version()\n",
      "2019-07-30 14:15:08,171 INFO sqlalchemy.engine.base.Engine {}\n",
      "2019-07-30 14:15:08,173 INFO sqlalchemy.engine.base.Engine select current_schema()\n",
      "2019-07-30 14:15:08,173 INFO sqlalchemy.engine.base.Engine {}\n",
      "2019-07-30 14:15:08,175 INFO sqlalchemy.engine.base.Engine SELECT CAST('test plain returns' AS VARCHAR(60)) AS anon_1\n",
      "2019-07-30 14:15:08,175 INFO sqlalchemy.engine.base.Engine {}\n",
      "2019-07-30 14:15:08,177 INFO sqlalchemy.engine.base.Engine SELECT CAST('test unicode returns' AS VARCHAR(60)) AS anon_1\n",
      "2019-07-30 14:15:08,177 INFO sqlalchemy.engine.base.Engine {}\n",
      "2019-07-30 14:15:08,178 INFO sqlalchemy.engine.base.Engine show standard_conforming_strings\n",
      "2019-07-30 14:15:08,179 INFO sqlalchemy.engine.base.Engine {}\n",
      "2019-07-30 14:15:08,180 INFO sqlalchemy.engine.base.Engine select relname from pg_class c join pg_namespace n on n.oid=c.relnamespace where pg_catalog.pg_table_is_visible(c.oid) and relname=%(name)s\n",
      "2019-07-30 14:15:08,181 INFO sqlalchemy.engine.base.Engine {'name': 'users'}\n"
     ]
    }
   ],
   "source": [
    "Base.metadata.create_all(engine)"
   ]
  },
  {
   "cell_type": "markdown",
   "metadata": {},
   "source": [
    "### creating a session class"
   ]
  },
  {
   "cell_type": "code",
   "execution_count": 21,
   "metadata": {
    "ExecuteTime": {
     "end_time": "2019-07-30T12:15:12.022448Z",
     "start_time": "2019-07-30T12:15:12.019126Z"
    }
   },
   "outputs": [],
   "source": [
    "from sqlalchemy.orm import sessionmaker\n",
    "Session = sessionmaker(bind=engine) # the bind can be defined later over Session.configure(bind=engine)\n",
    "session = Session()"
   ]
  },
  {
   "cell_type": "markdown",
   "metadata": {},
   "source": [
    "### initiate a session and add objects"
   ]
  },
  {
   "cell_type": "code",
   "execution_count": 22,
   "metadata": {
    "ExecuteTime": {
     "end_time": "2019-07-30T12:15:18.031973Z",
     "start_time": "2019-07-30T12:15:18.011243Z"
    }
   },
   "outputs": [
    {
     "data": {
      "text/plain": [
       "'Ed Jones'"
      ]
     },
     "execution_count": 22,
     "metadata": {},
     "output_type": "execute_result"
    },
    {
     "name": "stdout",
     "output_type": "stream",
     "text": [
      "2019-07-30 14:15:18,016 INFO sqlalchemy.engine.base.Engine BEGIN (implicit)\n",
      "2019-07-30 14:15:18,018 INFO sqlalchemy.engine.base.Engine INSERT INTO users (name, fullname, nickname) VALUES (%(name)s, %(fullname)s, %(nickname)s) RETURNING users.id\n",
      "2019-07-30 14:15:18,018 INFO sqlalchemy.engine.base.Engine {'name': 'ed', 'fullname': 'Ed Jones', 'nickname': 'Eddy'}\n",
      "2019-07-30 14:15:18,021 INFO sqlalchemy.engine.base.Engine SELECT users.id AS users_id, users.name AS users_name, users.fullname AS users_fullname, users.nickname AS users_nickname \n",
      "FROM users \n",
      "WHERE users.name = %(name_1)s\n",
      "2019-07-30 14:15:18,022 INFO sqlalchemy.engine.base.Engine {'name_1': 'ed'}\n"
     ]
    },
    {
     "data": {
      "text/plain": [
       "<User(name=ed, fullname=Ed Jones, nickname=Eddy)"
      ]
     },
     "execution_count": 22,
     "metadata": {},
     "output_type": "execute_result"
    },
    {
     "name": "stdout",
     "output_type": "stream",
     "text": [
      "2019-07-30 14:15:18,027 INFO sqlalchemy.engine.base.Engine SELECT users.id AS users_id, users.name AS users_name, users.fullname AS users_fullname, users.nickname AS users_nickname \n",
      "FROM users \n",
      "WHERE users.name = %(name_1)s \n",
      " LIMIT %(param_1)s\n",
      "2019-07-30 14:15:18,027 INFO sqlalchemy.engine.base.Engine {'name_1': 'ed', 'param_1': 1}\n"
     ]
    },
    {
     "data": {
      "text/plain": [
       "<User(name=ed, fullname=Ed Jones, nickname=Eddy)"
      ]
     },
     "execution_count": 22,
     "metadata": {},
     "output_type": "execute_result"
    }
   ],
   "source": [
    "ed_user = User(name='ed', fullname='Ed Jones', nickname='Eddy')\n",
    "ed_user.fullname\n",
    "session.add(ed_user) # session is pending\n",
    "our_user = session.query(User).filter_by(name='ed').all()[0]\n",
    "our_user\n",
    "our_user2 = session.query(User).filter_by(name='ed').first()\n",
    "our_user2"
   ]
  },
  {
   "cell_type": "code",
   "execution_count": 23,
   "metadata": {
    "ExecuteTime": {
     "end_time": "2019-07-30T12:16:40.313625Z",
     "start_time": "2019-07-30T12:16:40.309939Z"
    }
   },
   "outputs": [],
   "source": [
    "session.add_all([\n",
    "...     User(name='wendy', fullname='Wendy Williams', nickname='windy'),\n",
    "...     User(name='mary', fullname='Mary Contrary', nickname='mary'),\n",
    "...     User(name='fred', fullname='Fred Flintstone', nickname='freddy')])"
   ]
  },
  {
   "cell_type": "code",
   "execution_count": 24,
   "metadata": {
    "ExecuteTime": {
     "end_time": "2019-07-30T12:16:41.053714Z",
     "start_time": "2019-07-30T12:16:41.051053Z"
    }
   },
   "outputs": [],
   "source": [
    "ed_user.nickname = 'Eddo'"
   ]
  },
  {
   "cell_type": "code",
   "execution_count": 28,
   "metadata": {
    "ExecuteTime": {
     "end_time": "2019-07-30T12:19:08.449718Z",
     "start_time": "2019-07-30T12:19:08.443706Z"
    }
   },
   "outputs": [
    {
     "name": "stdout",
     "output_type": "stream",
     "text": [
      "2019-07-30 14:19:08,445 INFO sqlalchemy.engine.base.Engine SELECT users.id AS users_id, users.name AS users_name, users.fullname AS users_fullname, users.nickname AS users_nickname \n",
      "FROM users \n",
      " LIMIT %(param_1)s\n",
      "2019-07-30 14:19:08,446 INFO sqlalchemy.engine.base.Engine {'param_1': 1}\n"
     ]
    },
    {
     "data": {
      "text/plain": [
       "<User(name=ed, fullname=Ed Jones, nickname=Eddy)"
      ]
     },
     "execution_count": 28,
     "metadata": {},
     "output_type": "execute_result"
    }
   ],
   "source": [
    "session.query(User).first()"
   ]
  },
  {
   "cell_type": "code",
   "execution_count": 10,
   "metadata": {
    "ExecuteTime": {
     "end_time": "2019-07-30T12:13:48.862249Z",
     "start_time": "2019-07-30T12:13:48.814097Z"
    }
   },
   "outputs": [],
   "source": [
    "session.commit()"
   ]
  },
  {
   "cell_type": "code",
   "execution_count": 15,
   "metadata": {
    "ExecuteTime": {
     "end_time": "2019-07-30T12:14:40.902602Z",
     "start_time": "2019-07-30T12:14:40.895069Z"
    }
   },
   "outputs": [
    {
     "name": "stdout",
     "output_type": "stream",
     "text": [
      "(<User(name=ed, fullname=Ed Jones, nickname=Eddy), 1)\n",
      "(<User(name=wendy, fullname=Wendy Williams, nickname=windy), 3)\n",
      "(<User(name=mary, fullname=Mary Contrary, nickname=mary), 4)\n",
      "(<User(name=fred, fullname=Fred Flintstone, nickname=freddy), 5)\n",
      "(<User(name=jack, fullname=Jack Bean, nickname=gjffdd), 6)\n",
      "(<User(name=ed, fullname=Ed Jones, nickname=Eddo), 14)\n",
      "(<User(name=wendy, fullname=Wendy Williams, nickname=windy), 15)\n",
      "(<User(name=mary, fullname=Mary Contrary, nickname=mary), 16)\n",
      "(<User(name=fred, fullname=Fred Flintstone, nickname=freddy), 17)\n",
      "(<User(name=jack, fullname=Jack Bean, nickname=gjffdd), 18)\n",
      "(<User(name=ed, fullname=Ed Jones, nickname=Eddo), 19)\n",
      "(<User(name=wendy, fullname=Wendy Williams, nickname=windy), 20)\n",
      "(<User(name=mary, fullname=Mary Contrary, nickname=mary), 21)\n",
      "(<User(name=fred, fullname=Fred Flintstone, nickname=freddy), 22)\n",
      "(<User(name=ed, fullname=Ed Jones, nickname=Eddo), 23)\n",
      "(<User(name=wendy, fullname=Wendy Williams, nickname=windy), 24)\n",
      "(<User(name=mary, fullname=Mary Contrary, nickname=mary), 25)\n",
      "(<User(name=fred, fullname=Fred Flintstone, nickname=freddy), 26)\n",
      "(<User(name=jack, fullname=Jack Bean, nickname=gjffdd), 27)\n",
      "(<User(name=ed, fullname=Ed Jones, nickname=Eddo), 28)\n",
      "(<User(name=wendy, fullname=Wendy Williams, nickname=windy), 29)\n",
      "(<User(name=mary, fullname=Mary Contrary, nickname=mary), 30)\n",
      "(<User(name=fred, fullname=Fred Flintstone, nickname=freddy), 31)\n"
     ]
    }
   ],
   "source": [
    "for data in session.query(User, User.id):\n",
    "    print(data)"
   ]
  },
  {
   "cell_type": "markdown",
   "metadata": {
    "ExecuteTime": {
     "end_time": "2019-05-09T18:52:31.668345Z",
     "start_time": "2019-05-09T18:52:31.664524Z"
    }
   },
   "source": [
    "## Querying"
   ]
  },
  {
   "cell_type": "markdown",
   "metadata": {},
   "source": [
    "+ query returns named tuples (after attributes or class in query) for every query object"
   ]
  },
  {
   "cell_type": "code",
   "execution_count": 31,
   "metadata": {
    "ExecuteTime": {
     "end_time": "2019-07-30T12:33:59.907360Z",
     "start_time": "2019-07-30T12:33:59.896759Z"
    }
   },
   "outputs": [
    {
     "name": "stdout",
     "output_type": "stream",
     "text": [
      "2019-07-30 14:33:59,898 INFO sqlalchemy.engine.base.Engine SELECT users.id AS users_id, users.name AS users_name, users.fullname AS users_fullname, users.nickname AS users_nickname \n",
      "FROM users ORDER BY users.id\n",
      "2019-07-30 14:33:59,899 INFO sqlalchemy.engine.base.Engine {}\n",
      "1 Ed Jones\n",
      "3 Wendy Williams\n",
      "4 Mary Contrary\n",
      "5 Fred Flintstone\n",
      "6 Jack Bean\n",
      "14 Ed Jones\n",
      "15 Wendy Williams\n",
      "16 Mary Contrary\n",
      "17 Fred Flintstone\n",
      "18 Jack Bean\n",
      "19 Ed Jones\n",
      "20 Wendy Williams\n",
      "21 Mary Contrary\n",
      "22 Fred Flintstone\n",
      "23 Ed Jones\n",
      "24 Wendy Williams\n",
      "25 Mary Contrary\n",
      "26 Fred Flintstone\n",
      "27 Jack Bean\n",
      "28 Ed Jones\n",
      "29 Wendy Williams\n",
      "30 Mary Contrary\n",
      "31 Fred Flintstone\n",
      "32 Ed Jones\n",
      "33 Wendy Williams\n",
      "34 Mary Contrary\n",
      "35 Fred Flintstone\n"
     ]
    }
   ],
   "source": [
    "for tuple in session.query(User, User.fullname).order_by(User.id):\n",
    "    print(tuple.User.id, tuple.fullname)"
   ]
  },
  {
   "cell_type": "markdown",
   "metadata": {},
   "source": [
    "+ label your resulting tuple name using label and aliased"
   ]
  },
  {
   "cell_type": "code",
   "execution_count": 32,
   "metadata": {
    "ExecuteTime": {
     "end_time": "2019-07-30T12:34:07.036807Z",
     "start_time": "2019-07-30T12:34:07.029516Z"
    }
   },
   "outputs": [
    {
     "name": "stdout",
     "output_type": "stream",
     "text": [
      "2019-07-30 14:34:07,032 INFO sqlalchemy.engine.base.Engine SELECT \"alUser\".id AS \"alUser_id\", \"alUser\".name AS \"alUser_name\", \"alUser\".fullname AS \"alUser_fullname\", \"alUser\".nickname AS \"alUser_nickname\", users.name AS the_name \n",
      "FROM users AS \"alUser\", users \n",
      " LIMIT %(param_1)s OFFSET %(param_2)s\n",
      "2019-07-30 14:34:07,033 INFO sqlalchemy.engine.base.Engine {'param_1': 2, 'param_2': 1}\n",
      "ed wendy\n",
      "ed mary\n"
     ]
    }
   ],
   "source": [
    "from sqlalchemy.orm import aliased\n",
    "alUser = aliased(User, name='alUser')\n",
    "for tuple in session.query(alUser, User.name.label('the_name'))[1:3]:\n",
    "    print(tuple.alUser.name, tuple.the_name)"
   ]
  },
  {
   "cell_type": "markdown",
   "metadata": {},
   "source": [
    "### filter and filter_by\n",
    "* filter_by gives simple attribute identities\n",
    "* filter allows complex expressions\n",
    "* all filter commands are fully chainable"
   ]
  },
  {
   "cell_type": "code",
   "execution_count": 33,
   "metadata": {
    "ExecuteTime": {
     "end_time": "2019-07-30T12:34:24.053150Z",
     "start_time": "2019-07-30T12:34:24.040396Z"
    }
   },
   "outputs": [
    {
     "name": "stdout",
     "output_type": "stream",
     "text": [
      "2019-07-30 14:34:24,042 INFO sqlalchemy.engine.base.Engine SELECT users.id AS users_id, users.name AS users_name, users.fullname AS users_fullname, users.nickname AS users_nickname \n",
      "FROM users \n",
      "WHERE users.fullname = %(fullname_1)s ORDER BY users.id\n",
      "2019-07-30 14:34:24,043 INFO sqlalchemy.engine.base.Engine {'fullname_1': 'Ed Jones'}\n"
     ]
    },
    {
     "data": {
      "text/plain": [
       "[<User(name=ed, fullname=Ed Jones, nickname=Eddy),\n",
       " <User(name=ed, fullname=Ed Jones, nickname=Eddo),\n",
       " <User(name=ed, fullname=Ed Jones, nickname=Eddo),\n",
       " <User(name=ed, fullname=Ed Jones, nickname=Eddo),\n",
       " <User(name=ed, fullname=Ed Jones, nickname=Eddo),\n",
       " <User(name=ed, fullname=Ed Jones, nickname=Eddo)]"
      ]
     },
     "execution_count": 33,
     "metadata": {},
     "output_type": "execute_result"
    },
    {
     "name": "stdout",
     "output_type": "stream",
     "text": [
      "2019-07-30 14:34:24,048 INFO sqlalchemy.engine.base.Engine SELECT users.id AS users_id, users.name AS users_name, users.fullname AS users_fullname, users.nickname AS users_nickname \n",
      "FROM users \n",
      "WHERE users.fullname = %(fullname_1)s AND users.nickname = %(nickname_1)s ORDER BY users.id\n",
      "2019-07-30 14:34:24,049 INFO sqlalchemy.engine.base.Engine {'fullname_1': 'Ed Jones', 'nickname_1': 'Eddo'}\n"
     ]
    },
    {
     "data": {
      "text/plain": [
       "[<User(name=ed, fullname=Ed Jones, nickname=Eddo),\n",
       " <User(name=ed, fullname=Ed Jones, nickname=Eddo),\n",
       " <User(name=ed, fullname=Ed Jones, nickname=Eddo),\n",
       " <User(name=ed, fullname=Ed Jones, nickname=Eddo),\n",
       " <User(name=ed, fullname=Ed Jones, nickname=Eddo)]"
      ]
     },
     "execution_count": 33,
     "metadata": {},
     "output_type": "execute_result"
    }
   ],
   "source": [
    "session.query(User).order_by(User.id).filter_by(fullname='Ed Jones').all()\n",
    "session.query(User).order_by(User.id).filter_by(fullname='Ed Jones').filter_by(nickname='Eddo').all()"
   ]
  },
  {
   "cell_type": "code",
   "execution_count": 34,
   "metadata": {
    "ExecuteTime": {
     "end_time": "2019-07-30T12:37:26.103154Z",
     "start_time": "2019-07-30T12:37:26.090307Z"
    }
   },
   "outputs": [
    {
     "name": "stdout",
     "output_type": "stream",
     "text": [
      "2019-07-30 14:37:26,093 INFO sqlalchemy.engine.base.Engine SELECT users.id AS users_id, users.name AS users_name, users.fullname AS users_fullname, users.nickname AS users_nickname \n",
      "FROM users \n",
      "WHERE users.fullname = %(fullname_1)s ORDER BY users.id\n",
      "2019-07-30 14:37:26,094 INFO sqlalchemy.engine.base.Engine {'fullname_1': 'Ed Jones'}\n"
     ]
    },
    {
     "data": {
      "text/plain": [
       "[<User(name=ed, fullname=Ed Jones, nickname=Eddy),\n",
       " <User(name=ed, fullname=Ed Jones, nickname=Eddo),\n",
       " <User(name=ed, fullname=Ed Jones, nickname=Eddo),\n",
       " <User(name=ed, fullname=Ed Jones, nickname=Eddo),\n",
       " <User(name=ed, fullname=Ed Jones, nickname=Eddo),\n",
       " <User(name=ed, fullname=Ed Jones, nickname=Eddo)]"
      ]
     },
     "execution_count": 34,
     "metadata": {},
     "output_type": "execute_result"
    },
    {
     "name": "stdout",
     "output_type": "stream",
     "text": [
      "2019-07-30 14:37:26,097 INFO sqlalchemy.engine.base.Engine SELECT users.id AS users_id, users.name AS users_name, users.fullname AS users_fullname, users.nickname AS users_nickname \n",
      "FROM users \n",
      "WHERE users.fullname = %(fullname_1)s AND users.nickname = %(nickname_1)s ORDER BY users.id\n",
      "2019-07-30 14:37:26,098 INFO sqlalchemy.engine.base.Engine {'fullname_1': 'Ed Jones', 'nickname_1': 'Eddo'}\n"
     ]
    },
    {
     "data": {
      "text/plain": [
       "[<User(name=ed, fullname=Ed Jones, nickname=Eddo),\n",
       " <User(name=ed, fullname=Ed Jones, nickname=Eddo),\n",
       " <User(name=ed, fullname=Ed Jones, nickname=Eddo),\n",
       " <User(name=ed, fullname=Ed Jones, nickname=Eddo),\n",
       " <User(name=ed, fullname=Ed Jones, nickname=Eddo)]"
      ]
     },
     "execution_count": 34,
     "metadata": {},
     "output_type": "execute_result"
    }
   ],
   "source": [
    "session.query(User).order_by(User.id).filter(User.fullname == 'Ed Jones').all()\n",
    "session.query(User).order_by(User.id).filter(User.fullname == 'Ed Jones').filter(User.nickname == 'Eddo').all()"
   ]
  },
  {
   "cell_type": "code",
   "execution_count": 37,
   "metadata": {
    "ExecuteTime": {
     "end_time": "2019-07-30T12:40:26.815740Z",
     "start_time": "2019-07-30T12:40:26.809196Z"
    }
   },
   "outputs": [
    {
     "name": "stdout",
     "output_type": "stream",
     "text": [
      "2019-07-30 14:40:26,811 INFO sqlalchemy.engine.base.Engine SELECT users.id AS users_id, users.name AS users_name, users.fullname AS users_fullname, users.nickname AS users_nickname \n",
      "FROM users \n",
      "WHERE users.fullname LIKE %(fullname_1)s\n",
      "2019-07-30 14:40:26,811 INFO sqlalchemy.engine.base.Engine {'fullname_1': '%Will%'}\n"
     ]
    },
    {
     "data": {
      "text/plain": [
       "[<User(name=wendy, fullname=Wendy Williams, nickname=windy),\n",
       " <User(name=wendy, fullname=Wendy Williams, nickname=windy),\n",
       " <User(name=wendy, fullname=Wendy Williams, nickname=windy),\n",
       " <User(name=wendy, fullname=Wendy Williams, nickname=windy),\n",
       " <User(name=wendy, fullname=Wendy Williams, nickname=windy),\n",
       " <User(name=wendy, fullname=Wendy Williams, nickname=windy)]"
      ]
     },
     "execution_count": 37,
     "metadata": {},
     "output_type": "execute_result"
    }
   ],
   "source": [
    "session.query(User).filter(User.fullname.like('%Will%')).all()"
   ]
  },
  {
   "cell_type": "code",
   "execution_count": 39,
   "metadata": {
    "ExecuteTime": {
     "end_time": "2019-07-30T12:51:30.935885Z",
     "start_time": "2019-07-30T12:51:30.928130Z"
    }
   },
   "outputs": [
    {
     "name": "stdout",
     "output_type": "stream",
     "text": [
      "2019-07-30 14:51:30,930 INFO sqlalchemy.engine.base.Engine SELECT users.id AS users_id, users.name AS users_name, users.fullname AS users_fullname, users.nickname AS users_nickname \n",
      "FROM users \n",
      "WHERE users.name IN (%(name_1)s, %(name_2)s, %(name_3)s)\n",
      "2019-07-30 14:51:30,931 INFO sqlalchemy.engine.base.Engine {'name_1': 'ed', 'name_2': 'wendy', 'name_3': 'jack'}\n"
     ]
    },
    {
     "data": {
      "text/plain": [
       "[<User(name=ed, fullname=Ed Jones, nickname=Eddy),\n",
       " <User(name=wendy, fullname=Wendy Williams, nickname=windy),\n",
       " <User(name=jack, fullname=Jack Bean, nickname=gjffdd),\n",
       " <User(name=ed, fullname=Ed Jones, nickname=Eddo),\n",
       " <User(name=wendy, fullname=Wendy Williams, nickname=windy),\n",
       " <User(name=jack, fullname=Jack Bean, nickname=gjffdd),\n",
       " <User(name=ed, fullname=Ed Jones, nickname=Eddo),\n",
       " <User(name=wendy, fullname=Wendy Williams, nickname=windy),\n",
       " <User(name=ed, fullname=Ed Jones, nickname=Eddo),\n",
       " <User(name=wendy, fullname=Wendy Williams, nickname=windy),\n",
       " <User(name=jack, fullname=Jack Bean, nickname=gjffdd),\n",
       " <User(name=ed, fullname=Ed Jones, nickname=Eddo),\n",
       " <User(name=wendy, fullname=Wendy Williams, nickname=windy),\n",
       " <User(name=ed, fullname=Ed Jones, nickname=Eddo),\n",
       " <User(name=wendy, fullname=Wendy Williams, nickname=windy)]"
      ]
     },
     "execution_count": 39,
     "metadata": {},
     "output_type": "execute_result"
    }
   ],
   "source": [
    "session.query(User).filter(User.name.in_(['ed', 'wendy', 'jack'])).all()"
   ]
  },
  {
   "cell_type": "code",
   "execution_count": 40,
   "metadata": {
    "ExecuteTime": {
     "end_time": "2019-07-30T12:54:01.456673Z",
     "start_time": "2019-07-30T12:54:01.448834Z"
    }
   },
   "outputs": [
    {
     "name": "stdout",
     "output_type": "stream",
     "text": [
      "2019-07-30 14:54:01,451 INFO sqlalchemy.engine.base.Engine SELECT users.id AS users_id, users.name AS users_name, users.fullname AS users_fullname, users.nickname AS users_nickname \n",
      "FROM users \n",
      "WHERE users.name IN (%(name_1)s, %(name_2)s) OR users.name = %(name_3)s OR users.nickname = %(nickname_1)s\n",
      "2019-07-30 14:54:01,452 INFO sqlalchemy.engine.base.Engine {'name_1': 'ed', 'name_2': 'wendy', 'name_3': 'fred', 'nickname_1': 'windy'}\n"
     ]
    },
    {
     "data": {
      "text/plain": [
       "[<User(name=ed, fullname=Ed Jones, nickname=Eddy),\n",
       " <User(name=wendy, fullname=Wendy Williams, nickname=windy),\n",
       " <User(name=fred, fullname=Fred Flintstone, nickname=freddy),\n",
       " <User(name=ed, fullname=Ed Jones, nickname=Eddo),\n",
       " <User(name=wendy, fullname=Wendy Williams, nickname=windy),\n",
       " <User(name=fred, fullname=Fred Flintstone, nickname=freddy),\n",
       " <User(name=ed, fullname=Ed Jones, nickname=Eddo),\n",
       " <User(name=wendy, fullname=Wendy Williams, nickname=windy),\n",
       " <User(name=fred, fullname=Fred Flintstone, nickname=freddy),\n",
       " <User(name=ed, fullname=Ed Jones, nickname=Eddo),\n",
       " <User(name=wendy, fullname=Wendy Williams, nickname=windy),\n",
       " <User(name=fred, fullname=Fred Flintstone, nickname=freddy),\n",
       " <User(name=ed, fullname=Ed Jones, nickname=Eddo),\n",
       " <User(name=wendy, fullname=Wendy Williams, nickname=windy),\n",
       " <User(name=fred, fullname=Fred Flintstone, nickname=freddy),\n",
       " <User(name=ed, fullname=Ed Jones, nickname=Eddo),\n",
       " <User(name=wendy, fullname=Wendy Williams, nickname=windy),\n",
       " <User(name=fred, fullname=Fred Flintstone, nickname=freddy)]"
      ]
     },
     "execution_count": 40,
     "metadata": {},
     "output_type": "execute_result"
    }
   ],
   "source": [
    "from sqlalchemy import and_, or_\n",
    "session.query(User).filter(or_(User.name.in_(['ed', 'wendy']), User.name == 'fred', User.nickname == 'windy')).all()"
   ]
  },
  {
   "cell_type": "markdown",
   "metadata": {},
   "source": [
    "+ you can use full SQL statements with from_statement()"
   ]
  },
  {
   "cell_type": "code",
   "execution_count": 41,
   "metadata": {
    "ExecuteTime": {
     "end_time": "2019-07-30T12:54:29.449776Z",
     "start_time": "2019-07-30T12:54:29.441860Z"
    }
   },
   "outputs": [
    {
     "name": "stdout",
     "output_type": "stream",
     "text": [
      "2019-07-30 14:54:29,443 INFO sqlalchemy.engine.base.Engine SELECT * FROM users WHERE name=%(value)s\n",
      "2019-07-30 14:54:29,445 INFO sqlalchemy.engine.base.Engine {'value': 'ed'}\n"
     ]
    },
    {
     "data": {
      "text/plain": [
       "<User(name=ed, fullname=Ed Jones, nickname=Eddy)"
      ]
     },
     "execution_count": 41,
     "metadata": {},
     "output_type": "execute_result"
    }
   ],
   "source": [
    "from sqlalchemy import text\n",
    "session.query(User).from_statement(text(\"SELECT * FROM users WHERE name=:value\").params(value='ed')).first()"
   ]
  },
  {
   "cell_type": "markdown",
   "metadata": {},
   "source": [
    "### Relationships"
   ]
  },
  {
   "cell_type": "markdown",
   "metadata": {},
   "source": [
    "+ ForeignKey sets the connection by restricting own keys to match (and thereby possibly relate to) keys in other tables"
   ]
  },
  {
   "cell_type": "code",
   "execution_count": 42,
   "metadata": {
    "ExecuteTime": {
     "end_time": "2019-07-30T12:55:43.528841Z",
     "start_time": "2019-07-30T12:55:43.520509Z"
    }
   },
   "outputs": [],
   "source": [
    "from sqlalchemy import ForeignKey\n",
    "from sqlalchemy.orm import relationship\n",
    "\n",
    "class Address(Base):\n",
    "    __tablename__ = 'addresses'\n",
    "    id = Column(Integer, primary_key=True)\n",
    "    email_address = Column(String, nullable=False)\n",
    "    # here, addresses.user is connected to users.id\n",
    "    # the table carrying the ForeignKey is the many in the relationship\n",
    "    user_id = Column(Integer, ForeignKey('users.id'))\n",
    "    # User.addresses is populated by Address.user where Address.user == User.id\n",
    "    user = relationship(\"User\", back_populates='addresses')\n",
    "    \n",
    "    def __repr__(self):\n",
    "        return f\"<Address(email_address={self.email_address})>\"\n",
    "\n",
    "# this is resolved as a collection (configurable but defaulting to a list)\n",
    "User.addresses = relationship(\"Address\", order_by=Address.id, back_populates=\"user\")\n"
   ]
  },
  {
   "cell_type": "code",
   "execution_count": 43,
   "metadata": {
    "ExecuteTime": {
     "end_time": "2019-07-30T12:55:44.029537Z",
     "start_time": "2019-07-30T12:55:44.012139Z"
    }
   },
   "outputs": [
    {
     "name": "stdout",
     "output_type": "stream",
     "text": [
      "2019-07-30 14:55:44,020 INFO sqlalchemy.engine.base.Engine select relname from pg_class c join pg_namespace n on n.oid=c.relnamespace where pg_catalog.pg_table_is_visible(c.oid) and relname=%(name)s\n",
      "2019-07-30 14:55:44,021 INFO sqlalchemy.engine.base.Engine {'name': 'users'}\n",
      "2019-07-30 14:55:44,025 INFO sqlalchemy.engine.base.Engine select relname from pg_class c join pg_namespace n on n.oid=c.relnamespace where pg_catalog.pg_table_is_visible(c.oid) and relname=%(name)s\n",
      "2019-07-30 14:55:44,026 INFO sqlalchemy.engine.base.Engine {'name': 'addresses'}\n"
     ]
    }
   ],
   "source": [
    "Base.metadata.create_all(engine)"
   ]
  },
  {
   "cell_type": "code",
   "execution_count": 44,
   "metadata": {
    "ExecuteTime": {
     "end_time": "2019-07-30T12:56:14.374003Z",
     "start_time": "2019-07-30T12:56:14.370041Z"
    }
   },
   "outputs": [],
   "source": [
    "jack = User(name='jack', fullname='Jack Bean', nickname='gjffdd')"
   ]
  },
  {
   "cell_type": "code",
   "execution_count": 45,
   "metadata": {
    "ExecuteTime": {
     "end_time": "2019-07-30T12:56:17.530031Z",
     "start_time": "2019-07-30T12:56:17.527142Z"
    }
   },
   "outputs": [],
   "source": [
    "jack.addresses = [\n",
    "...                 Address(email_address='jack@google.com'),\n",
    "...                 Address(email_address='j25@yahoo.com')]"
   ]
  },
  {
   "cell_type": "code",
   "execution_count": 46,
   "metadata": {
    "ExecuteTime": {
     "end_time": "2019-07-30T12:56:18.524887Z",
     "start_time": "2019-07-30T12:56:18.516096Z"
    }
   },
   "outputs": [
    {
     "data": {
      "text/plain": [
       "[<Address(email_address=jack@google.com)>,\n",
       " <Address(email_address=j25@yahoo.com)>]"
      ]
     },
     "execution_count": 46,
     "metadata": {},
     "output_type": "execute_result"
    },
    {
     "data": {
      "text/plain": [
       "<Address(email_address=jack@google.com)>"
      ]
     },
     "execution_count": 46,
     "metadata": {},
     "output_type": "execute_result"
    },
    {
     "data": {
      "text/plain": [
       "<User(name=jack, fullname=Jack Bean, nickname=gjffdd)"
      ]
     },
     "execution_count": 46,
     "metadata": {},
     "output_type": "execute_result"
    },
    {
     "data": {
      "text/plain": [
       "'jack'"
      ]
     },
     "execution_count": 46,
     "metadata": {},
     "output_type": "execute_result"
    }
   ],
   "source": [
    "jack.addresses\n",
    "jack.addresses[0]\n",
    "jack.addresses[0].user\n",
    "jack.addresses[0].user.name"
   ]
  },
  {
   "cell_type": "code",
   "execution_count": 50,
   "metadata": {
    "ExecuteTime": {
     "end_time": "2019-07-30T12:57:16.093397Z",
     "start_time": "2019-07-30T12:57:16.089295Z"
    }
   },
   "outputs": [
    {
     "name": "stdout",
     "output_type": "stream",
     "text": [
      "2019-07-30 14:57:16,090 INFO sqlalchemy.engine.base.Engine COMMIT\n"
     ]
    }
   ],
   "source": [
    "session.add(jack)\n",
    "session.commit()"
   ]
  },
  {
   "cell_type": "code",
   "execution_count": 52,
   "metadata": {
    "ExecuteTime": {
     "end_time": "2019-07-30T12:57:27.979935Z",
     "start_time": "2019-07-30T12:57:27.973880Z"
    }
   },
   "outputs": [
    {
     "name": "stdout",
     "output_type": "stream",
     "text": [
      "2019-07-30 14:57:27,975 INFO sqlalchemy.engine.base.Engine SELECT addresses.id AS addresses_id, addresses.email_address AS addresses_email_address, addresses.user_id AS addresses_user_id \n",
      "FROM addresses \n",
      "WHERE %(param_1)s = addresses.user_id ORDER BY addresses.id\n",
      "2019-07-30 14:57:27,975 INFO sqlalchemy.engine.base.Engine {'param_1': 36}\n"
     ]
    },
    {
     "data": {
      "text/plain": [
       "[<Address(email_address=jack@google.com)>,\n",
       " <Address(email_address=j25@yahoo.com)>]"
      ]
     },
     "execution_count": 52,
     "metadata": {},
     "output_type": "execute_result"
    }
   ],
   "source": [
    "jack.addresses"
   ]
  },
  {
   "cell_type": "code",
   "execution_count": 53,
   "metadata": {
    "ExecuteTime": {
     "end_time": "2019-07-30T13:02:16.090878Z",
     "start_time": "2019-07-30T13:02:16.086556Z"
    }
   },
   "outputs": [
    {
     "data": {
      "text/plain": [
       "'SELECT users.id = addresses.user_id AS \"user\" \\nFROM users, addresses'"
      ]
     },
     "execution_count": 53,
     "metadata": {},
     "output_type": "execute_result"
    }
   ],
   "source": [
    "str(session.query(Address.user))"
   ]
  },
  {
   "cell_type": "markdown",
   "metadata": {},
   "source": [
    "### Joins\n",
    "+ joins can be better in cases where filtering looks into two tables as the database does not need to load a full cross join into memory (as below)"
   ]
  },
  {
   "cell_type": "code",
   "execution_count": 54,
   "metadata": {
    "ExecuteTime": {
     "end_time": "2019-07-30T13:02:21.406297Z",
     "start_time": "2019-07-30T13:02:21.398618Z"
    }
   },
   "outputs": [
    {
     "name": "stdout",
     "output_type": "stream",
     "text": [
      "2019-07-30 15:02:21,400 INFO sqlalchemy.engine.base.Engine SELECT users.name AS users_name, addresses.id AS addresses_id, addresses.email_address AS addresses_email_address, addresses.user_id AS addresses_user_id \n",
      "FROM users, addresses \n",
      "WHERE users.id = addresses.user_id AND addresses.email_address = %(email_address_1)s\n",
      "2019-07-30 15:02:21,401 INFO sqlalchemy.engine.base.Engine {'email_address_1': 'jack@google.com'}\n"
     ]
    },
    {
     "data": {
      "text/plain": [
       "[('jack', <Address(email_address=jack@google.com)>),\n",
       " ('jack', <Address(email_address=jack@google.com)>),\n",
       " ('jack', <Address(email_address=jack@google.com)>),\n",
       " ('jack', <Address(email_address=jack@google.com)>)]"
      ]
     },
     "execution_count": 54,
     "metadata": {},
     "output_type": "execute_result"
    }
   ],
   "source": [
    "session.query(User.name, Address).\\\n",
    "    filter(User.id==Address.user_id). \\\n",
    "    filter(Address.email_address=='jack@google.com').\\\n",
    "    all()"
   ]
  },
  {
   "cell_type": "code",
   "execution_count": 55,
   "metadata": {
    "ExecuteTime": {
     "end_time": "2019-07-30T13:03:36.671395Z",
     "start_time": "2019-07-30T13:03:36.663117Z"
    }
   },
   "outputs": [
    {
     "name": "stdout",
     "output_type": "stream",
     "text": [
      "2019-07-30 15:03:36,665 INFO sqlalchemy.engine.base.Engine SELECT users.id AS users_id, users.name AS users_name, users.fullname AS users_fullname, users.nickname AS users_nickname, addresses.id AS addresses_id, addresses.email_address AS addresses_email_address, addresses.user_id AS addresses_user_id \n",
      "FROM users, addresses \n",
      "WHERE users.id = addresses.user_id AND addresses.email_address = %(email_address_1)s\n",
      "2019-07-30 15:03:36,666 INFO sqlalchemy.engine.base.Engine {'email_address_1': 'jack@google.com'}\n",
      "jack\n",
      "jack@google.com\n",
      "jack\n",
      "jack@google.com\n",
      "jack\n",
      "jack@google.com\n",
      "jack\n",
      "jack@google.com\n"
     ]
    }
   ],
   "source": [
    "for u, a in session.query(User, Address).\\\n",
    "    filter(User.id==Address.user_id).\\\n",
    "    filter(Address.email_address=='jack@google.com').\\\n",
    "    all():\n",
    "        print(u.name)\n",
    "        print(a.email_address)"
   ]
  },
  {
   "cell_type": "markdown",
   "metadata": {},
   "source": [
    "As a default, a `join()` joins two dbs on their Foreign keys"
   ]
  },
  {
   "cell_type": "code",
   "execution_count": 56,
   "metadata": {
    "ExecuteTime": {
     "end_time": "2019-07-30T13:22:21.496383Z",
     "start_time": "2019-07-30T13:22:21.488945Z"
    }
   },
   "outputs": [
    {
     "name": "stdout",
     "output_type": "stream",
     "text": [
      "2019-07-30 15:22:21,491 INFO sqlalchemy.engine.base.Engine SELECT users.id AS users_id, users.name AS users_name, users.fullname AS users_fullname, users.nickname AS users_nickname \n",
      "FROM users JOIN addresses ON users.id = addresses.user_id \n",
      "WHERE addresses.email_address = %(email_address_1)s\n",
      "2019-07-30 15:22:21,492 INFO sqlalchemy.engine.base.Engine {'email_address_1': 'jack@google.com'}\n"
     ]
    },
    {
     "data": {
      "text/plain": [
       "[<User(name=jack, fullname=Jack Bean, nickname=gjffdd),\n",
       " <User(name=jack, fullname=Jack Bean, nickname=gjffdd),\n",
       " <User(name=jack, fullname=Jack Bean, nickname=gjffdd),\n",
       " <User(name=jack, fullname=Jack Bean, nickname=gjffdd)]"
      ]
     },
     "execution_count": 56,
     "metadata": {},
     "output_type": "execute_result"
    }
   ],
   "source": [
    "session.query(User).join(Address).\\\n",
    "    filter(Address.email_address=='jack@google.com').\\\n",
    "    all()"
   ]
  },
  {
   "cell_type": "markdown",
   "metadata": {
    "ExecuteTime": {
     "end_time": "2019-05-11T14:04:08.030751Z",
     "start_time": "2019-05-11T14:04:07.855Z"
    }
   },
   "source": [
    "Else, you can use more explicit join statements:"
   ]
  },
  {
   "cell_type": "code",
   "execution_count": 57,
   "metadata": {
    "ExecuteTime": {
     "end_time": "2019-07-30T13:36:00.617627Z",
     "start_time": "2019-07-30T13:36:00.610461Z"
    }
   },
   "outputs": [
    {
     "name": "stdout",
     "output_type": "stream",
     "text": [
      "2019-07-30 15:36:00,612 INFO sqlalchemy.engine.base.Engine SELECT users.id AS users_id, users.name AS users_name, users.fullname AS users_fullname, users.nickname AS users_nickname \n",
      "FROM users JOIN addresses ON users.id = addresses.user_id\n",
      "2019-07-30 15:36:00,613 INFO sqlalchemy.engine.base.Engine {}\n"
     ]
    },
    {
     "data": {
      "text/plain": [
       "[<User(name=jack, fullname=Jack Bean, nickname=gjffdd),\n",
       " <User(name=jack, fullname=Jack Bean, nickname=gjffdd),\n",
       " <User(name=jack, fullname=Jack Bean, nickname=gjffdd),\n",
       " <User(name=jack, fullname=Jack Bean, nickname=gjffdd)]"
      ]
     },
     "execution_count": 57,
     "metadata": {},
     "output_type": "execute_result"
    }
   ],
   "source": [
    "session.query(User).join(Address, User.id==Address.user_id).all()"
   ]
  },
  {
   "cell_type": "code",
   "execution_count": 59,
   "metadata": {
    "ExecuteTime": {
     "end_time": "2019-07-30T13:39:15.094979Z",
     "start_time": "2019-07-30T13:39:15.076932Z"
    }
   },
   "outputs": [
    {
     "name": "stdout",
     "output_type": "stream",
     "text": [
      "2019-07-30 15:39:15,079 INFO sqlalchemy.engine.base.Engine SELECT users.id AS users_id, users.name AS users_name, users.fullname AS users_fullname, users.nickname AS users_nickname \n",
      "FROM users JOIN addresses ON users.id = addresses.user_id\n",
      "2019-07-30 15:39:15,080 INFO sqlalchemy.engine.base.Engine {}\n"
     ]
    },
    {
     "data": {
      "text/plain": [
       "[<User(name=jack, fullname=Jack Bean, nickname=gjffdd),\n",
       " <User(name=jack, fullname=Jack Bean, nickname=gjffdd),\n",
       " <User(name=jack, fullname=Jack Bean, nickname=gjffdd),\n",
       " <User(name=jack, fullname=Jack Bean, nickname=gjffdd)]"
      ]
     },
     "execution_count": 59,
     "metadata": {},
     "output_type": "execute_result"
    },
    {
     "name": "stdout",
     "output_type": "stream",
     "text": [
      "2019-07-30 15:39:15,084 INFO sqlalchemy.engine.base.Engine SELECT users.id AS users_id, users.name AS users_name, users.fullname AS users_fullname, users.nickname AS users_nickname \n",
      "FROM users JOIN addresses ON users.id = addresses.user_id\n",
      "2019-07-30 15:39:15,085 INFO sqlalchemy.engine.base.Engine {}\n"
     ]
    },
    {
     "data": {
      "text/plain": [
       "[<User(name=jack, fullname=Jack Bean, nickname=gjffdd),\n",
       " <User(name=jack, fullname=Jack Bean, nickname=gjffdd),\n",
       " <User(name=jack, fullname=Jack Bean, nickname=gjffdd),\n",
       " <User(name=jack, fullname=Jack Bean, nickname=gjffdd)]"
      ]
     },
     "execution_count": 59,
     "metadata": {},
     "output_type": "execute_result"
    },
    {
     "name": "stdout",
     "output_type": "stream",
     "text": [
      "2019-07-30 15:39:15,089 INFO sqlalchemy.engine.base.Engine SELECT users.id AS users_id, users.name AS users_name, users.fullname AS users_fullname, users.nickname AS users_nickname \n",
      "FROM users JOIN addresses ON users.id = addresses.user_id\n",
      "2019-07-30 15:39:15,090 INFO sqlalchemy.engine.base.Engine {}\n"
     ]
    },
    {
     "data": {
      "text/plain": [
       "[<User(name=jack, fullname=Jack Bean, nickname=gjffdd),\n",
       " <User(name=jack, fullname=Jack Bean, nickname=gjffdd),\n",
       " <User(name=jack, fullname=Jack Bean, nickname=gjffdd),\n",
       " <User(name=jack, fullname=Jack Bean, nickname=gjffdd)]"
      ]
     },
     "execution_count": 59,
     "metadata": {},
     "output_type": "execute_result"
    }
   ],
   "source": [
    "session.query(User).join(User.addresses).all()\n",
    "\n",
    "session.query(User).join(Address, User.addresses).all()\n",
    "\n",
    "session.query(User).join('addresses').all()"
   ]
  },
  {
   "cell_type": "markdown",
   "metadata": {},
   "source": [
    "+ join only retrieves Users, where address field is defined\n",
    "+ for all Users, you can use outerjoin"
   ]
  },
  {
   "cell_type": "code",
   "execution_count": 60,
   "metadata": {
    "ExecuteTime": {
     "end_time": "2019-07-30T13:39:38.545994Z",
     "start_time": "2019-07-30T13:39:38.538794Z"
    }
   },
   "outputs": [
    {
     "name": "stdout",
     "output_type": "stream",
     "text": [
      "2019-07-30 15:39:38,540 INFO sqlalchemy.engine.base.Engine SELECT users.id AS users_id, users.name AS users_name, users.fullname AS users_fullname, users.nickname AS users_nickname \n",
      "FROM users LEFT OUTER JOIN addresses ON users.id = addresses.user_id\n",
      "2019-07-30 15:39:38,541 INFO sqlalchemy.engine.base.Engine {}\n"
     ]
    },
    {
     "data": {
      "text/plain": [
       "[<User(name=jack, fullname=Jack Bean, nickname=gjffdd),\n",
       " <User(name=jack, fullname=Jack Bean, nickname=gjffdd),\n",
       " <User(name=jack, fullname=Jack Bean, nickname=gjffdd),\n",
       " <User(name=jack, fullname=Jack Bean, nickname=gjffdd),\n",
       " <User(name=wendy, fullname=Wendy Williams, nickname=windy),\n",
       " <User(name=mary, fullname=Mary Contrary, nickname=mary),\n",
       " <User(name=fred, fullname=Fred Flintstone, nickname=freddy),\n",
       " <User(name=fred, fullname=Fred Flintstone, nickname=freddy),\n",
       " <User(name=wendy, fullname=Wendy Williams, nickname=windy),\n",
       " <User(name=fred, fullname=Fred Flintstone, nickname=freddy),\n",
       " <User(name=mary, fullname=Mary Contrary, nickname=mary),\n",
       " <User(name=wendy, fullname=Wendy Williams, nickname=windy),\n",
       " <User(name=mary, fullname=Mary Contrary, nickname=mary),\n",
       " <User(name=fred, fullname=Fred Flintstone, nickname=freddy),\n",
       " <User(name=ed, fullname=Ed Jones, nickname=Eddo),\n",
       " <User(name=ed, fullname=Ed Jones, nickname=Eddo),\n",
       " <User(name=wendy, fullname=Wendy Williams, nickname=windy),\n",
       " <User(name=ed, fullname=Ed Jones, nickname=Eddo),\n",
       " <User(name=mary, fullname=Mary Contrary, nickname=mary),\n",
       " <User(name=wendy, fullname=Wendy Williams, nickname=windy),\n",
       " <User(name=mary, fullname=Mary Contrary, nickname=mary),\n",
       " <User(name=mary, fullname=Mary Contrary, nickname=mary),\n",
       " <User(name=ed, fullname=Ed Jones, nickname=Eddo),\n",
       " <User(name=ed, fullname=Ed Jones, nickname=Eddy),\n",
       " <User(name=fred, fullname=Fred Flintstone, nickname=freddy),\n",
       " <User(name=wendy, fullname=Wendy Williams, nickname=windy),\n",
       " <User(name=ed, fullname=Ed Jones, nickname=Eddo),\n",
       " <User(name=fred, fullname=Fred Flintstone, nickname=freddy)]"
      ]
     },
     "execution_count": 60,
     "metadata": {},
     "output_type": "execute_result"
    }
   ],
   "source": [
    "session.query(User).outerjoin(Address).all()"
   ]
  },
  {
   "cell_type": "code",
   "execution_count": 61,
   "metadata": {
    "ExecuteTime": {
     "end_time": "2019-07-30T13:40:22.656680Z",
     "start_time": "2019-07-30T13:40:22.648370Z"
    }
   },
   "outputs": [
    {
     "name": "stdout",
     "output_type": "stream",
     "text": [
      "2019-07-30 15:40:22,650 INFO sqlalchemy.engine.base.Engine SELECT users.id AS users_id, users.name AS users_name, users.fullname AS users_fullname, users.nickname AS users_nickname, addresses.id AS addresses_id, addresses.email_address AS addresses_email_address, addresses.user_id AS addresses_user_id \n",
      "FROM addresses JOIN users ON users.id = addresses.user_id\n",
      "2019-07-30 15:40:22,651 INFO sqlalchemy.engine.base.Engine {}\n"
     ]
    },
    {
     "data": {
      "text/plain": [
       "[(<User(name=jack, fullname=Jack Bean, nickname=gjffdd),\n",
       "  <Address(email_address=jack@google.com)>),\n",
       " (<User(name=jack, fullname=Jack Bean, nickname=gjffdd),\n",
       "  <Address(email_address=j25@yahoo.com)>),\n",
       " (<User(name=jack, fullname=Jack Bean, nickname=gjffdd),\n",
       "  <Address(email_address=jack@google.com)>),\n",
       " (<User(name=jack, fullname=Jack Bean, nickname=gjffdd),\n",
       "  <Address(email_address=j25@yahoo.com)>),\n",
       " (<User(name=jack, fullname=Jack Bean, nickname=gjffdd),\n",
       "  <Address(email_address=jack@google.com)>),\n",
       " (<User(name=jack, fullname=Jack Bean, nickname=gjffdd),\n",
       "  <Address(email_address=j25@yahoo.com)>),\n",
       " (<User(name=jack, fullname=Jack Bean, nickname=gjffdd),\n",
       "  <Address(email_address=jack@google.com)>),\n",
       " (<User(name=jack, fullname=Jack Bean, nickname=gjffdd),\n",
       "  <Address(email_address=j25@yahoo.com)>)]"
      ]
     },
     "execution_count": 61,
     "metadata": {},
     "output_type": "execute_result"
    }
   ],
   "source": [
    "session.query(User, Address).select_from(Address).join(User).all()"
   ]
  },
  {
   "cell_type": "markdown",
   "metadata": {},
   "source": [
    "### Aliases\n",
    "+ for several references to same table you can use aliased()\n",
    "+ then you join the different aliases of same table to retrieve several values"
   ]
  },
  {
   "cell_type": "code",
   "execution_count": 62,
   "metadata": {
    "ExecuteTime": {
     "end_time": "2019-07-30T13:41:55.569575Z",
     "start_time": "2019-07-30T13:41:55.558652Z"
    }
   },
   "outputs": [
    {
     "name": "stdout",
     "output_type": "stream",
     "text": [
      "2019-07-30 15:41:55,563 INFO sqlalchemy.engine.base.Engine SELECT users.name AS users_name, addresses_1.email_address AS addresses_1_email_address, addresses_2.email_address AS addresses_2_email_address \n",
      "FROM users JOIN addresses AS addresses_1 ON users.id = addresses_1.user_id JOIN addresses AS addresses_2 ON users.id = addresses_2.user_id \n",
      "WHERE addresses_1.email_address = %(email_address_1)s AND addresses_2.email_address = %(email_address_2)s\n",
      "2019-07-30 15:41:55,564 INFO sqlalchemy.engine.base.Engine {'email_address_1': 'jack@google.com', 'email_address_2': 'j25@yahoo.com'}\n"
     ]
    },
    {
     "data": {
      "text/plain": [
       "[('jack', 'jack@google.com', 'j25@yahoo.com'),\n",
       " ('jack', 'jack@google.com', 'j25@yahoo.com'),\n",
       " ('jack', 'jack@google.com', 'j25@yahoo.com'),\n",
       " ('jack', 'jack@google.com', 'j25@yahoo.com')]"
      ]
     },
     "execution_count": 62,
     "metadata": {},
     "output_type": "execute_result"
    }
   ],
   "source": [
    "from sqlalchemy.orm import aliased\n",
    "add_alias1 = aliased(Address)\n",
    "add_alias2 = aliased(Address)\n",
    "session.query(User.name, add_alias1.email_address, add_alias2.email_address).\\\n",
    "    join(add_alias1, User.addresses).\\\n",
    "    join(add_alias2, User.addresses).\\\n",
    "    filter(add_alias1.email_address == 'jack@google.com').\\\n",
    "    filter(add_alias2.email_address == 'j25@yahoo.com').all()\n"
   ]
  },
  {
   "cell_type": "markdown",
   "metadata": {},
   "source": [
    "### subqueries\n",
    "+ first create a subquery using .subquery() which returns an SQL expression construct\n",
    "+ here, we use subquery for an aggregate function count()\n",
    "+ the subquery can be treated like a standard table with attributes accessible as c."
   ]
  },
  {
   "cell_type": "code",
   "execution_count": 79,
   "metadata": {
    "ExecuteTime": {
     "end_time": "2019-07-31T12:19:38.795184Z",
     "start_time": "2019-07-31T12:19:38.789354Z"
    }
   },
   "outputs": [
    {
     "data": {
      "text/plain": [
       "<sqlalchemy.sql.selectable.Alias at 0x11d4997b8; %(4786329528 anon)s>"
      ]
     },
     "execution_count": 79,
     "metadata": {},
     "output_type": "execute_result"
    }
   ],
   "source": [
    "from sqlalchemy import func\n",
    "sub_query = session.query(Address.user_id, func.count('*').label('address_count')).\\\n",
    "    group_by(Address.user_id).subquery()\n",
    "sub_query"
   ]
  },
  {
   "cell_type": "code",
   "execution_count": 82,
   "metadata": {
    "ExecuteTime": {
     "end_time": "2019-07-31T12:20:04.295451Z",
     "start_time": "2019-07-31T12:20:04.285490Z"
    }
   },
   "outputs": [
    {
     "name": "stdout",
     "output_type": "stream",
     "text": [
      "2019-07-31 14:20:04,288 INFO sqlalchemy.engine.base.Engine SELECT users.id AS users_id, users.name AS users_name, users.fullname AS users_fullname, users.nickname AS users_nickname, anon_1.address_count AS anon_1_address_count \n",
      "FROM users LEFT OUTER JOIN (SELECT addresses.user_id AS user_id, count(%(count_1)s) AS address_count \n",
      "FROM addresses GROUP BY addresses.user_id) AS anon_1 ON users.id = anon_1.user_id ORDER BY users.id\n",
      "2019-07-31 14:20:04,289 INFO sqlalchemy.engine.base.Engine {'count_1': '*'}\n"
     ]
    },
    {
     "data": {
      "text/plain": [
       "[(<User(name=ed, fullname=Ed Jones, nickname=Eddy), None),\n",
       " (<User(name=wendy, fullname=Wendy Williams, nickname=windy), None),\n",
       " (<User(name=mary, fullname=Mary Contrary, nickname=mary), None),\n",
       " (<User(name=fred, fullname=Fred Flintstone, nickname=freddy), None),\n",
       " (<User(name=jack, fullname=Jack Bean, nickname=gjffdd), 2),\n",
       " (<User(name=ed, fullname=Ed Jones, nickname=Eddo), None),\n",
       " (<User(name=wendy, fullname=Wendy Williams, nickname=windy), None),\n",
       " (<User(name=mary, fullname=Mary Contrary, nickname=mary), None),\n",
       " (<User(name=fred, fullname=Fred Flintstone, nickname=freddy), None),\n",
       " (<User(name=jack, fullname=Jack Bean, nickname=gjffdd), 2),\n",
       " (<User(name=ed, fullname=Ed Jones, nickname=Eddo), None),\n",
       " (<User(name=wendy, fullname=Wendy Williams, nickname=windy), None),\n",
       " (<User(name=mary, fullname=Mary Contrary, nickname=mary), None),\n",
       " (<User(name=fred, fullname=Fred Flintstone, nickname=freddy), None),\n",
       " (<User(name=ed, fullname=Ed Jones, nickname=Eddo), None),\n",
       " (<User(name=wendy, fullname=Wendy Williams, nickname=windy), None),\n",
       " (<User(name=mary, fullname=Mary Contrary, nickname=mary), None),\n",
       " (<User(name=fred, fullname=Fred Flintstone, nickname=freddy), None),\n",
       " (<User(name=jack, fullname=Jack Bean, nickname=gjffdd), 2),\n",
       " (<User(name=ed, fullname=Ed Jones, nickname=Eddo), None),\n",
       " (<User(name=wendy, fullname=Wendy Williams, nickname=windy), None),\n",
       " (<User(name=mary, fullname=Mary Contrary, nickname=mary), None),\n",
       " (<User(name=fred, fullname=Fred Flintstone, nickname=freddy), None),\n",
       " (<User(name=ed, fullname=Ed Jones, nickname=Eddo), None),\n",
       " (<User(name=wendy, fullname=Wendy Williams, nickname=windy), None),\n",
       " (<User(name=mary, fullname=Mary Contrary, nickname=mary), None),\n",
       " (<User(name=fred, fullname=Fred Flintstone, nickname=freddy), None),\n",
       " (<User(name=jack, fullname=Jack Bean, nickname=gjffdd), 2)]"
      ]
     },
     "execution_count": 82,
     "metadata": {},
     "output_type": "execute_result"
    }
   ],
   "source": [
    "session.query(User, sub_query.c.address_count).\\\n",
    "    outerjoin(sub_query, User.id == sub_query.c.user_id).\\\n",
    "    order_by(User.id).all()"
   ]
  },
  {
   "cell_type": "markdown",
   "metadata": {},
   "source": [
    "### Exists"
   ]
  },
  {
   "cell_type": "code",
   "execution_count": null,
   "metadata": {
    "ExecuteTime": {
     "end_time": "2019-07-15T20:48:35.407552Z",
     "start_time": "2019-07-15T20:48:35.394813Z"
    }
   },
   "outputs": [],
   "source": [
    "from sqlalchemy.sql import exists\n",
    "existing = exists().where(Address.user_id != User.id)\n",
    "session.query(User.name).filter(existing).all()"
   ]
  },
  {
   "cell_type": "markdown",
   "metadata": {},
   "source": [
    "+ EXISTS can be expresses as any(condition) in SQLalchemy"
   ]
  },
  {
   "cell_type": "code",
   "execution_count": null,
   "metadata": {
    "ExecuteTime": {
     "end_time": "2019-07-15T20:50:06.302121Z",
     "start_time": "2019-07-15T20:50:06.294769Z"
    }
   },
   "outputs": [],
   "source": [
    "session.query(User.name).filter(~User.addresses.any()).all()"
   ]
  },
  {
   "cell_type": "code",
   "execution_count": null,
   "metadata": {
    "ExecuteTime": {
     "end_time": "2019-07-15T20:50:12.776070Z",
     "start_time": "2019-07-15T20:50:12.763153Z"
    }
   },
   "outputs": [],
   "source": [
    "session.query(User.name).filter(User.addresses.any(Address.email_address.like('%google%'))).all()"
   ]
  },
  {
   "cell_type": "markdown",
   "metadata": {},
   "source": [
    "### Eager Loading\n",
    "+ if you want to load associated data in a single transaction, you can use selectinload\n",
    "+ in selectinload, the related data is loaded in a separate select call\n",
    "+ first it loads all User rows and looks up all primary keys of these objects\n",
    "+ the second SELECT uses a WHERE addresses.user_id IN (`all primary keys`)\n",
    "+ selectinload is the preferred method of loading "
   ]
  },
  {
   "cell_type": "code",
   "execution_count": 65,
   "metadata": {
    "ExecuteTime": {
     "end_time": "2019-07-30T14:01:33.112700Z",
     "start_time": "2019-07-30T14:01:33.102156Z"
    }
   },
   "outputs": [
    {
     "name": "stdout",
     "output_type": "stream",
     "text": [
      "2019-07-30 16:01:33,104 INFO sqlalchemy.engine.base.Engine SELECT users.id AS users_id, users.name AS users_name, users.fullname AS users_fullname, users.nickname AS users_nickname \n",
      "FROM users \n",
      "WHERE users.name = %(name_1)s \n",
      " LIMIT %(param_1)s\n",
      "2019-07-30 16:01:33,105 INFO sqlalchemy.engine.base.Engine {'name_1': 'jack', 'param_1': 1}\n",
      "2019-07-30 16:01:33,108 INFO sqlalchemy.engine.base.Engine SELECT addresses.user_id AS addresses_user_id, addresses.id AS addresses_id, addresses.email_address AS addresses_email_address \n",
      "FROM addresses \n",
      "WHERE addresses.user_id IN (%(primary_keys_1)s) ORDER BY addresses.user_id, addresses.id\n",
      "2019-07-30 16:01:33,108 INFO sqlalchemy.engine.base.Engine {'primary_keys_1': 6}\n"
     ]
    },
    {
     "data": {
      "text/plain": [
       "[<Address(email_address=jack@google.com)>,\n",
       " <Address(email_address=j25@yahoo.com)>]"
      ]
     },
     "execution_count": 65,
     "metadata": {},
     "output_type": "execute_result"
    }
   ],
   "source": [
    "from sqlalchemy.orm import selectinload\n",
    "session.query(User).options(selectinload(User.addresses)).\\\n",
    "    filter_by(name='jack').first().addresses"
   ]
  },
  {
   "cell_type": "markdown",
   "metadata": {
    "ExecuteTime": {
     "end_time": "2019-05-12T11:52:01.042196Z",
     "start_time": "2019-05-12T11:52:01.038432Z"
    }
   },
   "source": [
    "+ in joinedload, the data is joined in one select call"
   ]
  },
  {
   "cell_type": "code",
   "execution_count": 66,
   "metadata": {
    "ExecuteTime": {
     "end_time": "2019-07-30T14:03:13.897974Z",
     "start_time": "2019-07-30T14:03:13.888236Z"
    }
   },
   "outputs": [
    {
     "name": "stdout",
     "output_type": "stream",
     "text": [
      "2019-07-30 16:03:13,892 INFO sqlalchemy.engine.base.Engine SELECT anon_1.users_id AS anon_1_users_id, anon_1.users_name AS anon_1_users_name, anon_1.users_fullname AS anon_1_users_fullname, anon_1.users_nickname AS anon_1_users_nickname, addresses_1.id AS addresses_1_id, addresses_1.email_address AS addresses_1_email_address, addresses_1.user_id AS addresses_1_user_id \n",
      "FROM (SELECT users.id AS users_id, users.name AS users_name, users.fullname AS users_fullname, users.nickname AS users_nickname \n",
      "FROM users \n",
      "WHERE users.name = %(name_1)s \n",
      " LIMIT %(param_1)s) AS anon_1 LEFT OUTER JOIN addresses AS addresses_1 ON anon_1.users_id = addresses_1.user_id ORDER BY addresses_1.id\n",
      "2019-07-30 16:03:13,893 INFO sqlalchemy.engine.base.Engine {'name_1': 'jack', 'param_1': 1}\n"
     ]
    },
    {
     "data": {
      "text/plain": [
       "[<Address(email_address=jack@google.com)>,\n",
       " <Address(email_address=j25@yahoo.com)>]"
      ]
     },
     "execution_count": 66,
     "metadata": {},
     "output_type": "execute_result"
    }
   ],
   "source": [
    "from sqlalchemy.orm import joinedload\n",
    "session.query(User).options(joinedload(User.addresses)).\\\n",
    "    filter_by(name='jack').first().addresses"
   ]
  },
  {
   "cell_type": "markdown",
   "metadata": {},
   "source": [
    "+ contains_eager preloads the associated data to be used in chained filters\n",
    "+ in example, Address.user is eager_loaded to allow filtering with User.name"
   ]
  },
  {
   "cell_type": "code",
   "execution_count": null,
   "metadata": {
    "ExecuteTime": {
     "end_time": "2019-07-15T20:53:25.603331Z",
     "start_time": "2019-07-15T20:53:25.594737Z"
    }
   },
   "outputs": [],
   "source": [
    "from sqlalchemy.orm import contains_eager\n",
    "session.query(Address).join(Address.user).\\\n",
    "    filter(User.name=='jack').\\\n",
    "    options(contains_eager(Address.user)).all()"
   ]
  },
  {
   "cell_type": "markdown",
   "metadata": {},
   "source": [
    "### Deleting\n",
    "+ without cascading, data related to the deleted data will still be available"
   ]
  },
  {
   "cell_type": "code",
   "execution_count": null,
   "metadata": {
    "ExecuteTime": {
     "end_time": "2019-05-26T12:26:31.964449Z",
     "start_time": "2019-05-26T12:26:31.954635Z"
    }
   },
   "outputs": [],
   "source": [
    "session.delete(jack)\n",
    "session.query(Address).filter(Address.email_address.in_(['jack@google.com', 'j25@yahoo.com'])).count()"
   ]
  },
  {
   "cell_type": "markdown",
   "metadata": {},
   "source": [
    "+ with cascading, linked data is deleted as well\n",
    "+ here, we reset and declare the User class with cascading"
   ]
  },
  {
   "cell_type": "code",
   "execution_count": null,
   "metadata": {
    "ExecuteTime": {
     "end_time": "2019-07-15T20:56:05.533760Z",
     "start_time": "2019-07-15T20:56:05.517330Z"
    }
   },
   "outputs": [],
   "source": [
    "session.close()\n",
    "Base = declarative_base()\n",
    "\n",
    "class User(Base):\n",
    "    __tablename__ = 'users'\n",
    "\n",
    "    id = Column(Integer, primary_key=True)\n",
    "     \n",
    "    name = Column(String)\n",
    "    fullname = Column(String)\n",
    "    nickname = Column(String)\n",
    "    addresses = relationship(\"Address\", back_populates='user',\n",
    "        cascade=\"all, delete, delete-orphan\")\n",
    "\n",
    "    def __repr__(self):\n",
    "        return \"<User(name='%s', fullname='%s', nickname='%s')>\" % (\n",
    "            self.name, self.fullname, self.nickname)\n",
    "    \n",
    "    \n",
    "class Address(Base):\n",
    "    __tablename__ = 'addresses'\n",
    "    id = Column(Integer, primary_key=True)\n",
    "    email_address = Column(String, nullable=False)\n",
    "    user_id = Column(Integer, ForeignKey('users.id'))\n",
    "    user = relationship(\"User\", back_populates=\"addresses\")\n",
    "\n",
    "    def __repr__(self):\n",
    "        return \"<Address(email_address='%s')>\" % self.email_address\n",
    "    \n",
    "Base.metadata.create_all(engine)\n"
   ]
  },
  {
   "cell_type": "markdown",
   "metadata": {},
   "source": [
    "+ with cascading activate, all associated data will be removed with the object"
   ]
  },
  {
   "cell_type": "code",
   "execution_count": null,
   "metadata": {
    "ExecuteTime": {
     "end_time": "2019-07-15T20:56:48.979336Z",
     "start_time": "2019-07-15T20:56:48.966997Z"
    }
   },
   "outputs": [],
   "source": [
    "session.delete(jack)\n",
    "session.query(Address).filter(Address.email_address.in_(['jack@google.com', 'j25@yahoo.com'])).count()"
   ]
  },
  {
   "cell_type": "markdown",
   "metadata": {},
   "source": [
    "### Many to Many Relationship\n",
    "+ for many2many, you can use an association table to combine both related tables"
   ]
  },
  {
   "cell_type": "code",
   "execution_count": null,
   "metadata": {
    "ExecuteTime": {
     "end_time": "2019-07-15T21:01:40.651896Z",
     "start_time": "2019-07-15T21:01:40.647979Z"
    }
   },
   "outputs": [],
   "source": [
    "from sqlalchemy import Table, Text\n",
    "# association table\n",
    "post_keywords = Table('post_keywords', Base.metadata,\\\n",
    "            Column('post_id', ForeignKey('posts.id'), primary_key=True),\\\n",
    "            Column('keyword_id', ForeignKey('keywords.id'), primary_key=True))"
   ]
  },
  {
   "cell_type": "code",
   "execution_count": null,
   "metadata": {
    "ExecuteTime": {
     "end_time": "2019-07-15T21:01:43.308496Z",
     "start_time": "2019-07-15T21:01:43.298023Z"
    }
   },
   "outputs": [],
   "source": [
    "class BlogPost(Base):\n",
    "    __tablename__ = 'posts'\n",
    "    \n",
    "    id = Column(Integer, primary_key=True)\n",
    "    user_id = Column(Integer, ForeignKey('users.id'))\n",
    "    headline = Column(String(255), nullable=False)\n",
    "    body = Column(Text)\n",
    "    \n",
    "    # here the relationship via the association table is created\n",
    "    keywords = relationship('Keyword', secondary=post_keywords, back_populates='posts')\n",
    "    \n",
    "    # init is optional in SQLalchemy\n",
    "    def __init__(self, headline, body, author):\n",
    "        self.author = author\n",
    "        self.headline = headline\n",
    "        self.body = body\n",
    "        \n",
    "    def __repr__(self):\n",
    "        return f\"BlogPost({self.headline}, {self.body}, {self.author})\"\n",
    "    \n",
    "class Keyword(Base):\n",
    "    __tablename__ = 'keywords'\n",
    "    \n",
    "    id = Column(Integer, primary_key=True)\n",
    "    keyword = Column(String(50), nullable=False, unique=True)\n",
    "    posts = relationship('BlogPost', secondary=post_keywords, back_populates='keywords')\n",
    "    \n",
    "    # init is optional in SQLalchemy\n",
    "    def __init__(self, keyword):\n",
    "        self.keyword = keyword\n",
    "    "
   ]
  },
  {
   "cell_type": "code",
   "execution_count": null,
   "metadata": {
    "ExecuteTime": {
     "end_time": "2019-07-15T21:01:46.248492Z",
     "start_time": "2019-07-15T21:01:46.245170Z"
    }
   },
   "outputs": [],
   "source": [
    "BlogPost.author = relationship(User, back_populates='posts')\n",
    "User.posts = relationship(BlogPost, back_populates=\"author\", lazy=\"dynamic\")"
   ]
  },
  {
   "cell_type": "code",
   "execution_count": null,
   "metadata": {
    "ExecuteTime": {
     "end_time": "2019-07-15T21:01:48.219393Z",
     "start_time": "2019-07-15T21:01:48.177658Z"
    }
   },
   "outputs": [],
   "source": [
    "Base.metadata.create_all(engine)"
   ]
  },
  {
   "cell_type": "code",
   "execution_count": null,
   "metadata": {
    "ExecuteTime": {
     "end_time": "2019-07-15T21:02:06.440175Z",
     "start_time": "2019-07-15T21:02:06.433221Z"
    }
   },
   "outputs": [],
   "source": [
    "wendy = session.query(User).filter_by(name='wendy').first()\n",
    "post = BlogPost(\"Wendy's Blog Post\", \"This is a test\", wendy)\n",
    "session.add(post)"
   ]
  },
  {
   "cell_type": "code",
   "execution_count": null,
   "metadata": {
    "ExecuteTime": {
     "end_time": "2019-07-15T21:02:10.455657Z",
     "start_time": "2019-07-15T21:02:10.452465Z"
    }
   },
   "outputs": [],
   "source": [
    "post.keywords.append(Keyword('wendy'))\n",
    "post.keywords.append(Keyword('firstpost'))"
   ]
  },
  {
   "cell_type": "code",
   "execution_count": null,
   "metadata": {
    "ExecuteTime": {
     "end_time": "2019-07-15T21:02:11.689601Z",
     "start_time": "2019-07-15T21:02:11.672262Z"
    }
   },
   "outputs": [],
   "source": [
    "session.commit()"
   ]
  },
  {
   "cell_type": "code",
   "execution_count": null,
   "metadata": {
    "ExecuteTime": {
     "end_time": "2019-07-15T21:02:16.022957Z",
     "start_time": "2019-07-15T21:02:16.009399Z"
    }
   },
   "outputs": [],
   "source": [
    "session.query(BlogPost).filter(BlogPost.keywords.any(keyword='firstpost')).all()"
   ]
  },
  {
   "cell_type": "code",
   "execution_count": null,
   "metadata": {
    "ExecuteTime": {
     "end_time": "2019-07-15T21:02:26.723820Z",
     "start_time": "2019-07-15T21:02:26.715757Z"
    }
   },
   "outputs": [],
   "source": [
    "session.query(BlogPost).filter(BlogPost.author==wendy).\\\n",
    "filter(BlogPost.keywords.any(keyword='firstpost')).all()"
   ]
  },
  {
   "cell_type": "code",
   "execution_count": null,
   "metadata": {},
   "outputs": [],
   "source": []
  },
  {
   "cell_type": "code",
   "execution_count": null,
   "metadata": {},
   "outputs": [],
   "source": []
  },
  {
   "cell_type": "markdown",
   "metadata": {},
   "source": [
    "# Pandas with SQLAlchemy"
   ]
  },
  {
   "cell_type": "code",
   "execution_count": null,
   "metadata": {
    "ExecuteTime": {
     "end_time": "2019-07-15T21:02:34.167591Z",
     "start_time": "2019-07-15T21:02:34.091953Z"
    }
   },
   "outputs": [],
   "source": [
    "data = pd.read_sql_table('users', engine)"
   ]
  },
  {
   "cell_type": "code",
   "execution_count": null,
   "metadata": {
    "ExecuteTime": {
     "end_time": "2019-07-15T21:03:04.607489Z",
     "start_time": "2019-07-15T21:03:04.597308Z"
    }
   },
   "outputs": [],
   "source": [
    "data"
   ]
  },
  {
   "cell_type": "code",
   "execution_count": null,
   "metadata": {
    "ExecuteTime": {
     "end_time": "2019-07-15T21:04:09.670149Z",
     "start_time": "2019-07-15T21:04:09.666367Z"
    }
   },
   "outputs": [],
   "source": [
    "for d in data:\n",
    "    print(d)"
   ]
  },
  {
   "cell_type": "code",
   "execution_count": null,
   "metadata": {},
   "outputs": [],
   "source": []
  }
 ],
 "metadata": {
  "kernelspec": {
   "display_name": "Python 3",
   "language": "python",
   "name": "python3"
  },
  "language_info": {
   "codemirror_mode": {
    "name": "ipython",
    "version": 3
   },
   "file_extension": ".py",
   "mimetype": "text/x-python",
   "name": "python",
   "nbconvert_exporter": "python",
   "pygments_lexer": "ipython3",
   "version": "3.7.3"
  },
  "varInspector": {
   "cols": {
    "lenName": 16,
    "lenType": 16,
    "lenVar": 40
   },
   "kernels_config": {
    "python": {
     "delete_cmd_postfix": "",
     "delete_cmd_prefix": "del ",
     "library": "var_list.py",
     "varRefreshCmd": "print(var_dic_list())"
    },
    "r": {
     "delete_cmd_postfix": ") ",
     "delete_cmd_prefix": "rm(",
     "library": "var_list.r",
     "varRefreshCmd": "cat(var_dic_list()) "
    }
   },
   "types_to_exclude": [
    "module",
    "function",
    "builtin_function_or_method",
    "instance",
    "_Feature"
   ],
   "window_display": false
  }
 },
 "nbformat": 4,
 "nbformat_minor": 2
}
