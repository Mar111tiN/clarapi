{
 "cells": [
  {
   "cell_type": "code",
   "execution_count": 1,
   "metadata": {
    "ExecuteTime": {
     "end_time": "2019-07-29T20:46:34.082741Z",
     "start_time": "2019-07-29T20:46:34.060389Z"
    }
   },
   "outputs": [],
   "source": [
    "from marshmallow import Schema, fields, post_load\n",
    "from datetime import date, datetime"
   ]
  },
  {
   "cell_type": "markdown",
   "metadata": {},
   "source": [
    "### create object classes"
   ]
  },
  {
   "cell_type": "code",
   "execution_count": 2,
   "metadata": {
    "ExecuteTime": {
     "end_time": "2019-07-29T20:46:34.806836Z",
     "start_time": "2019-07-29T20:46:34.801855Z"
    }
   },
   "outputs": [],
   "source": [
    "class Inner:\n",
    "    def __init__(self, name, title, password):\n",
    "        self.name = name\n",
    "        self.title = title\n",
    "        self.password = password\n",
    "    \n",
    "    def __repr__(self):\n",
    "        return f\"<Inner(name={self.name})>\"\n",
    "\n",
    "    \n",
    "class Outer:\n",
    "    def __init__(self, name, inner):\n",
    "        self.name = name\n",
    "        self.inner = inner\n",
    "        self.created = datetime.now()\n",
    "    \n",
    "    def __repr__(self):\n",
    "        return f\"<Outer({self.name}, inner={self.inner.name}>\""
   ]
  },
  {
   "cell_type": "code",
   "execution_count": 3,
   "metadata": {
    "ExecuteTime": {
     "end_time": "2019-07-29T20:46:38.174337Z",
     "start_time": "2019-07-29T20:46:38.171462Z"
    }
   },
   "outputs": [],
   "source": [
    "in_obj = Inner('inName', 'Title', '1234')\n",
    "out_obj = Outer('outName', in_obj)"
   ]
  },
  {
   "cell_type": "code",
   "execution_count": 4,
   "metadata": {
    "ExecuteTime": {
     "end_time": "2019-07-29T20:46:38.623842Z",
     "start_time": "2019-07-29T20:46:38.615682Z"
    }
   },
   "outputs": [
    {
     "data": {
      "text/plain": [
       "datetime.datetime(2019, 7, 29, 22, 46, 38, 172715)"
      ]
     },
     "execution_count": 4,
     "metadata": {},
     "output_type": "execute_result"
    }
   ],
   "source": [
    "out_obj.created"
   ]
  },
  {
   "cell_type": "markdown",
   "metadata": {},
   "source": [
    "### create Schemas"
   ]
  },
  {
   "cell_type": "code",
   "execution_count": 5,
   "metadata": {
    "ExecuteTime": {
     "end_time": "2019-07-29T20:46:59.469885Z",
     "start_time": "2019-07-29T20:46:59.463729Z"
    }
   },
   "outputs": [],
   "source": [
    "class InnerSchema(Schema):\n",
    "    name = fields.Str()\n",
    "    title = fields.Str()\n",
    "    password = fields.Str()\n",
    "    \n",
    "    @post_load\n",
    "    def make_inner(self, data, **kwargs):\n",
    "        return Inner(**data)\n",
    "    \n",
    "class OuterSchema(Schema):\n",
    "    name = fields.Str()\n",
    "    created = fields.DateTime()\n",
    "    inner = fields.Nested(InnerSchema())\n",
    "    \n",
    "    @post_load\n",
    "    def make_outer(self, data, **kwargs):\n",
    "        inner_obj = InnerSchema().load(data['inner'])\n",
    "        print(inner_obj)\n",
    "        return Outer(data['name'], inner_obj)\n",
    "        \n",
    "    \n",
    "inner_schema = InnerSchema()\n",
    "outer_schema = OuterSchema()"
   ]
  },
  {
   "cell_type": "code",
   "execution_count": 6,
   "metadata": {
    "ExecuteTime": {
     "end_time": "2019-07-29T20:47:03.054009Z",
     "start_time": "2019-07-29T20:47:03.048434Z"
    }
   },
   "outputs": [
    {
     "data": {
      "text/plain": [
       "{'name': 'inName', 'title': 'Title', 'password': '1234'}"
      ]
     },
     "execution_count": 6,
     "metadata": {},
     "output_type": "execute_result"
    },
    {
     "data": {
      "text/plain": [
       "'1234'"
      ]
     },
     "execution_count": 6,
     "metadata": {},
     "output_type": "execute_result"
    }
   ],
   "source": [
    "in_dict = inner_schema.dump(in_obj)\n",
    "in_dict\n",
    "test = inner_schema.load(in_dict)\n",
    "test.password"
   ]
  },
  {
   "cell_type": "code",
   "execution_count": 7,
   "metadata": {
    "ExecuteTime": {
     "end_time": "2019-07-29T20:47:04.547941Z",
     "start_time": "2019-07-29T20:47:04.439568Z"
    }
   },
   "outputs": [
    {
     "data": {
      "text/plain": [
       "{'name': 'outName',\n",
       " 'inner': {'name': 'inName', 'title': 'Title', 'password': '1234'},\n",
       " 'created': '2019-07-29T22:46:38.172715+00:00'}"
      ]
     },
     "execution_count": 7,
     "metadata": {},
     "output_type": "execute_result"
    },
    {
     "ename": "ValidationError",
     "evalue": "{'_schema': ['Invalid input type.']}",
     "output_type": "error",
     "traceback": [
      "\u001b[0;31m---------------------------------------------------------------------------\u001b[0m",
      "\u001b[0;31mValidationError\u001b[0m                           Traceback (most recent call last)",
      "\u001b[0;32m<ipython-input-7-dd8e5f78ba40>\u001b[0m in \u001b[0;36m<module>\u001b[0;34m\u001b[0m\n\u001b[1;32m      1\u001b[0m \u001b[0mout_dict\u001b[0m \u001b[0;34m=\u001b[0m \u001b[0mouter_schema\u001b[0m\u001b[0;34m.\u001b[0m\u001b[0mdump\u001b[0m\u001b[0;34m(\u001b[0m\u001b[0mout_obj\u001b[0m\u001b[0;34m)\u001b[0m\u001b[0;34m\u001b[0m\u001b[0;34m\u001b[0m\u001b[0m\n\u001b[1;32m      2\u001b[0m \u001b[0mout_dict\u001b[0m\u001b[0;34m\u001b[0m\u001b[0;34m\u001b[0m\u001b[0m\n\u001b[0;32m----> 3\u001b[0;31m \u001b[0mout_test\u001b[0m \u001b[0;34m=\u001b[0m \u001b[0mouter_schema\u001b[0m\u001b[0;34m.\u001b[0m\u001b[0mload\u001b[0m\u001b[0;34m(\u001b[0m\u001b[0mout_dict\u001b[0m\u001b[0;34m)\u001b[0m\u001b[0;34m\u001b[0m\u001b[0;34m\u001b[0m\u001b[0m\n\u001b[0m",
      "\u001b[0;32m~/miniconda/envs/clara-env/lib/python3.7/site-packages/marshmallow/schema.py\u001b[0m in \u001b[0;36mload\u001b[0;34m(self, data, many, partial, unknown)\u001b[0m\n\u001b[1;32m    730\u001b[0m         \"\"\"\n\u001b[1;32m    731\u001b[0m         return self._do_load(\n\u001b[0;32m--> 732\u001b[0;31m             \u001b[0mdata\u001b[0m\u001b[0;34m,\u001b[0m \u001b[0mmany\u001b[0m\u001b[0;34m=\u001b[0m\u001b[0mmany\u001b[0m\u001b[0;34m,\u001b[0m \u001b[0mpartial\u001b[0m\u001b[0;34m=\u001b[0m\u001b[0mpartial\u001b[0m\u001b[0;34m,\u001b[0m \u001b[0munknown\u001b[0m\u001b[0;34m=\u001b[0m\u001b[0munknown\u001b[0m\u001b[0;34m,\u001b[0m \u001b[0mpostprocess\u001b[0m\u001b[0;34m=\u001b[0m\u001b[0;32mTrue\u001b[0m\u001b[0;34m\u001b[0m\u001b[0;34m\u001b[0m\u001b[0m\n\u001b[0m\u001b[1;32m    733\u001b[0m         )\n\u001b[1;32m    734\u001b[0m \u001b[0;34m\u001b[0m\u001b[0m\n",
      "\u001b[0;32m~/miniconda/envs/clara-env/lib/python3.7/site-packages/marshmallow/schema.py\u001b[0m in \u001b[0;36m_do_load\u001b[0;34m(self, data, many, partial, unknown, postprocess)\u001b[0m\n\u001b[1;32m    892\u001b[0m             \u001b[0mexc\u001b[0m \u001b[0;34m=\u001b[0m \u001b[0mValidationError\u001b[0m\u001b[0;34m(\u001b[0m\u001b[0merrors\u001b[0m\u001b[0;34m,\u001b[0m \u001b[0mdata\u001b[0m\u001b[0;34m=\u001b[0m\u001b[0mdata\u001b[0m\u001b[0;34m,\u001b[0m \u001b[0mvalid_data\u001b[0m\u001b[0;34m=\u001b[0m\u001b[0mresult\u001b[0m\u001b[0;34m)\u001b[0m\u001b[0;34m\u001b[0m\u001b[0;34m\u001b[0m\u001b[0m\n\u001b[1;32m    893\u001b[0m             \u001b[0mself\u001b[0m\u001b[0;34m.\u001b[0m\u001b[0mhandle_error\u001b[0m\u001b[0;34m(\u001b[0m\u001b[0mexc\u001b[0m\u001b[0;34m,\u001b[0m \u001b[0mdata\u001b[0m\u001b[0;34m)\u001b[0m\u001b[0;34m\u001b[0m\u001b[0;34m\u001b[0m\u001b[0m\n\u001b[0;32m--> 894\u001b[0;31m             \u001b[0;32mraise\u001b[0m \u001b[0mexc\u001b[0m\u001b[0;34m\u001b[0m\u001b[0;34m\u001b[0m\u001b[0m\n\u001b[0m\u001b[1;32m    895\u001b[0m \u001b[0;34m\u001b[0m\u001b[0m\n\u001b[1;32m    896\u001b[0m         \u001b[0;32mreturn\u001b[0m \u001b[0mresult\u001b[0m\u001b[0;34m\u001b[0m\u001b[0;34m\u001b[0m\u001b[0m\n",
      "\u001b[0;31mValidationError\u001b[0m: {'_schema': ['Invalid input type.']}"
     ]
    }
   ],
   "source": [
    "out_dict = outer_schema.dump(out_obj)\n",
    "out_dict\n",
    "out_test = outer_schema.load(out_dict)"
   ]
  },
  {
   "cell_type": "code",
   "execution_count": 13,
   "metadata": {
    "ExecuteTime": {
     "end_time": "2019-07-26T13:04:25.548301Z",
     "start_time": "2019-07-26T13:04:25.545501Z"
    }
   },
   "outputs": [],
   "source": [
    "my_object = outer_schema.load(out_dict)"
   ]
  },
  {
   "cell_type": "code",
   "execution_count": 14,
   "metadata": {
    "ExecuteTime": {
     "end_time": "2019-07-26T13:04:30.187933Z",
     "start_time": "2019-07-26T13:04:30.184031Z"
    }
   },
   "outputs": [
    {
     "data": {
      "text/plain": [
       "{'inner': {'password': '1234', 'name': 'inName', 'title': 'Title'},\n",
       " 'created': datetime.datetime(2019, 7, 26, 15, 2, 32, 879206, tzinfo=datetime.timezone(datetime.timedelta(0), '+0000')),\n",
       " 'name': 'outName'}"
      ]
     },
     "execution_count": 14,
     "metadata": {},
     "output_type": "execute_result"
    }
   ],
   "source": [
    "my_object"
   ]
  },
  {
   "cell_type": "code",
   "execution_count": null,
   "metadata": {},
   "outputs": [],
   "source": []
  }
 ],
 "metadata": {
  "kernelspec": {
   "display_name": "Python 3",
   "language": "python",
   "name": "python3"
  },
  "language_info": {
   "codemirror_mode": {
    "name": "ipython",
    "version": 3
   },
   "file_extension": ".py",
   "mimetype": "text/x-python",
   "name": "python",
   "nbconvert_exporter": "python",
   "pygments_lexer": "ipython3",
   "version": "3.7.3"
  },
  "varInspector": {
   "cols": {
    "lenName": 16,
    "lenType": 16,
    "lenVar": 40
   },
   "kernels_config": {
    "python": {
     "delete_cmd_postfix": "",
     "delete_cmd_prefix": "del ",
     "library": "var_list.py",
     "varRefreshCmd": "print(var_dic_list())"
    },
    "r": {
     "delete_cmd_postfix": ") ",
     "delete_cmd_prefix": "rm(",
     "library": "var_list.r",
     "varRefreshCmd": "cat(var_dic_list()) "
    }
   },
   "types_to_exclude": [
    "module",
    "function",
    "builtin_function_or_method",
    "instance",
    "_Feature"
   ],
   "window_display": false
  }
 },
 "nbformat": 4,
 "nbformat_minor": 2
}
