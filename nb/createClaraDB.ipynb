{
 "cells": [
  {
   "cell_type": "code",
   "execution_count": null,
   "metadata": {
    "ExecuteTime": {
     "end_time": "2019-07-31T12:44:44.139251Z",
     "start_time": "2019-07-31T12:44:43.993646Z"
    }
   },
   "outputs": [],
   "source": [
    "import re\n",
    "import sqlalchemy"
   ]
  },
  {
   "cell_type": "markdown",
   "metadata": {},
   "source": [
    "### code/paths"
   ]
  },
  {
   "cell_type": "code",
   "execution_count": null,
   "metadata": {},
   "outputs": [],
   "source": [
    "import pandas as pd\n",
    "import os\n",
    "import sys\n",
    "\n",
    "home = os.path.join(os.environ['HOME'])\n",
    "pix_path = os.path.join(home, \"Dropbox/Icke/Bilder/ClaraPix\")\n",
    "xls_file = os.path.join(pix_path, \"ClaraPics.xlsx\")\n",
    "import sys\n",
    "import os\n",
    "sys.path.append('../code')"
   ]
  },
  {
   "cell_type": "markdown",
   "metadata": {},
   "source": [
    "### import the picture table"
   ]
  },
  {
   "cell_type": "code",
   "execution_count": null,
   "metadata": {
    "ExecuteTime": {
     "end_time": "2019-07-31T12:44:57.549419Z",
     "start_time": "2019-07-31T12:44:57.495078Z"
    }
   },
   "outputs": [],
   "source": [
    "pic_table = pd.read_excel(xls_file, dtype={'Datum':str})\n",
    "pic_table['Key'] = pic_table['Key'].str.replace(r' ?, ', ',').str.replace(' ',',').str.replace(',&,',' & ').str.replace('Magische,Tiere', 'Magische Tiere')\n",
    "pic_table.iloc[0:3]"
   ]
  },
  {
   "cell_type": "markdown",
   "metadata": {},
   "source": [
    "# create the engine for connection to the db"
   ]
  },
  {
   "cell_type": "code",
   "execution_count": null,
   "metadata": {
    "ExecuteTime": {
     "end_time": "2019-07-31T13:13:27.902686Z",
     "start_time": "2019-07-31T13:13:27.882055Z"
    }
   },
   "outputs": [],
   "source": [
    "from db import psql_engine\n",
    "\n",
    "# get the dbuser from the home user name (default for postgres init DB)\n",
    "dbuser = os.path.basename(home)\n",
    "\n",
    "engine = psql_engine(dbuser, \"clarapix\")\n",
    "engine"
   ]
  },
  {
   "cell_type": "markdown",
   "metadata": {},
   "source": [
    "## define tables and create them in PostgreSQL"
   ]
  },
  {
   "cell_type": "code",
   "execution_count": null,
   "metadata": {
    "ExecuteTime": {
     "end_time": "2019-07-31T12:45:17.482252Z",
     "start_time": "2019-07-31T12:45:17.390008Z"
    }
   },
   "outputs": [],
   "source": [
    "from createdb import create_tables\n",
    "create_tables(engine)"
   ]
  },
  {
   "cell_type": "markdown",
   "metadata": {},
   "source": [
    "### import table data to the database in a session"
   ]
  },
  {
   "cell_type": "code",
   "execution_count": null,
   "metadata": {
    "ExecuteTime": {
     "end_time": "2019-07-31T12:45:25.329090Z",
     "start_time": "2019-07-31T12:45:25.325723Z"
    }
   },
   "outputs": [],
   "source": [
    "from db import make_session\n",
    "\n",
    "session = make_session(engine)"
   ]
  },
  {
   "cell_type": "code",
   "execution_count": null,
   "metadata": {
    "ExecuteTime": {
     "end_time": "2019-07-16T13:15:17.534054Z",
     "start_time": "2019-07-16T13:15:17.514414Z"
    }
   },
   "outputs": [],
   "source": [
    "from df2db import add2db\n",
    "session.rollback()\n",
    "pic_table.apply(add2db, pix_path=pix_path, session=session, axis=1)\n",
    "session.commit()"
   ]
  },
  {
   "cell_type": "code",
   "execution_count": null,
   "metadata": {
    "ExecuteTime": {
     "end_time": "2019-07-31T13:14:44.585956Z",
     "start_time": "2019-07-31T13:14:44.572098Z"
    }
   },
   "outputs": [],
   "source": [
    "from tables import Image, Collection, User, Keyword\n",
    "session.query(Collection).first()\n",
    "session.query(Image)[3:6]"
   ]
  }
 ],
 "metadata": {
  "kernelspec": {
   "display_name": "Python 3 (ipykernel)",
   "language": "python",
   "name": "python3"
  },
  "language_info": {
   "codemirror_mode": {
    "name": "ipython",
    "version": 3
   },
   "file_extension": ".py",
   "mimetype": "text/x-python",
   "name": "python",
   "nbconvert_exporter": "python",
   "pygments_lexer": "ipython3",
   "version": "3.9.7"
  },
  "varInspector": {
   "cols": {
    "lenName": 16,
    "lenType": 16,
    "lenVar": 40
   },
   "kernels_config": {
    "python": {
     "delete_cmd_postfix": "",
     "delete_cmd_prefix": "del ",
     "library": "var_list.py",
     "varRefreshCmd": "print(var_dic_list())"
    },
    "r": {
     "delete_cmd_postfix": ") ",
     "delete_cmd_prefix": "rm(",
     "library": "var_list.r",
     "varRefreshCmd": "cat(var_dic_list()) "
    }
   },
   "types_to_exclude": [
    "module",
    "function",
    "builtin_function_or_method",
    "instance",
    "_Feature"
   ],
   "window_display": false
  }
 },
 "nbformat": 4,
 "nbformat_minor": 2
}
