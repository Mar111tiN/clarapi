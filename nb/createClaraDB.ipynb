{
 "cells": [
  {
   "cell_type": "code",
   "execution_count": 1,
   "metadata": {
    "ExecuteTime": {
     "end_time": "2019-07-31T12:44:44.139251Z",
     "start_time": "2019-07-31T12:44:43.993646Z"
    }
   },
   "outputs": [],
   "source": [
    "import pandas\n",
    "import os\n",
    "import sys\n",
    "import re\n",
    "import sqlalchemy"
   ]
  },
  {
   "cell_type": "markdown",
   "metadata": {},
   "source": [
    "### import the picture table"
   ]
  },
  {
   "cell_type": "code",
   "execution_count": 3,
   "metadata": {
    "ExecuteTime": {
     "end_time": "2019-07-31T12:44:57.549419Z",
     "start_time": "2019-07-31T12:44:57.495078Z"
    }
   },
   "outputs": [
    {
     "data": {
      "text/html": [
       "<div>\n",
       "<style scoped>\n",
       "    .dataframe tbody tr th:only-of-type {\n",
       "        vertical-align: middle;\n",
       "    }\n",
       "\n",
       "    .dataframe tbody tr th {\n",
       "        vertical-align: top;\n",
       "    }\n",
       "\n",
       "    .dataframe thead th {\n",
       "        text-align: right;\n",
       "    }\n",
       "</style>\n",
       "<table border=\"1\" class=\"dataframe\">\n",
       "  <thead>\n",
       "    <tr style=\"text-align: right;\">\n",
       "      <th></th>\n",
       "      <th>img #</th>\n",
       "      <th>Wer</th>\n",
       "      <th>Hilfe von</th>\n",
       "      <th>Title</th>\n",
       "      <th>Key</th>\n",
       "      <th>Datum</th>\n",
       "      <th>Datum unbekannt</th>\n",
       "      <th>Note</th>\n",
       "      <th>Set</th>\n",
       "    </tr>\n",
       "  </thead>\n",
       "  <tbody>\n",
       "    <tr>\n",
       "      <th>0</th>\n",
       "      <td>1</td>\n",
       "      <td>Clara</td>\n",
       "      <td>NaN</td>\n",
       "      <td>Muster</td>\n",
       "      <td>Kunst</td>\n",
       "      <td>Aug 18</td>\n",
       "      <td>NaN</td>\n",
       "      <td>NaN</td>\n",
       "      <td>NaN</td>\n",
       "    </tr>\n",
       "    <tr>\n",
       "      <th>1</th>\n",
       "      <td>2</td>\n",
       "      <td>Clara</td>\n",
       "      <td>NaN</td>\n",
       "      <td>Haus</td>\n",
       "      <td>Haus,Sommer</td>\n",
       "      <td>Aug 18</td>\n",
       "      <td>x</td>\n",
       "      <td>Für Mama von Clara</td>\n",
       "      <td>NaN</td>\n",
       "    </tr>\n",
       "    <tr>\n",
       "      <th>2</th>\n",
       "      <td>3</td>\n",
       "      <td>Clara</td>\n",
       "      <td>NaN</td>\n",
       "      <td>Muster</td>\n",
       "      <td>Schule</td>\n",
       "      <td>Juli 18</td>\n",
       "      <td>NaN</td>\n",
       "      <td>Was Clara alles schon kann</td>\n",
       "      <td>NaN</td>\n",
       "    </tr>\n",
       "  </tbody>\n",
       "</table>\n",
       "</div>"
      ],
      "text/plain": [
       "   img #     Wer Hilfe von   Title          Key    Datum Datum unbekannt  \\\n",
       "0       1  Clara       NaN  Muster        Kunst   Aug 18             NaN   \n",
       "1       2  Clara       NaN    Haus  Haus,Sommer   Aug 18               x   \n",
       "2       3  Clara       NaN  Muster       Schule  Juli 18             NaN   \n",
       "\n",
       "                         Note  Set  \n",
       "0                         NaN  NaN  \n",
       "1          Für Mama von Clara  NaN  \n",
       "2  Was Clara alles schon kann  NaN  "
      ]
     },
     "execution_count": 3,
     "metadata": {},
     "output_type": "execute_result"
    }
   ],
   "source": [
    "# get the path to the excel file\n",
    "xls_path = os.path.join(os.environ['HOME'], 'Dropbox/Icke/Bilder/ClaraPix/ClaraPics.xlsx')\n",
    "pic_table = pandas.read_excel(xls_path, dtype={'Datum':str})\n",
    "pic_table['Key'] = pic_table['Key'].str.replace(r' ?, ', ',').str.replace(' ',',').str.replace(',&,',' & ').str.replace('Magische,Tiere', 'Magische Tiere')\n",
    "pic_table.iloc[0:3]"
   ]
  },
  {
   "cell_type": "markdown",
   "metadata": {},
   "source": [
    "# create the engine for connection to the db"
   ]
  },
  {
   "cell_type": "code",
   "execution_count": 27,
   "metadata": {
    "ExecuteTime": {
     "end_time": "2019-07-31T13:13:27.902686Z",
     "start_time": "2019-07-31T13:13:27.882055Z"
    }
   },
   "outputs": [
    {
     "data": {
      "text/plain": [
       "<sqlalchemy.engine.base.Connection at 0x11d5f4518>"
      ]
     },
     "execution_count": 27,
     "metadata": {},
     "output_type": "execute_result"
    }
   ],
   "source": [
    "from sqlalchemy import Column, ForeignKey, Integer, String, Date, Boolean, Table\n",
    "from sqlalchemy.ext.declarative import declarative_base\n",
    "from sqlalchemy.orm import relationship\n",
    "from sqlalchemy import create_engine\n",
    "\n",
    "Base = declarative_base()\n",
    "engine = create_engine('postgresql://mahtin@localhost:5432/claragallery', echo=False)\n",
    "engine.connect()"
   ]
  },
  {
   "cell_type": "markdown",
   "metadata": {},
   "source": [
    "## define tables and create them in PostgreSQL"
   ]
  },
  {
   "cell_type": "code",
   "execution_count": 5,
   "metadata": {
    "ExecuteTime": {
     "end_time": "2019-07-31T12:45:17.482252Z",
     "start_time": "2019-07-31T12:45:17.390008Z"
    }
   },
   "outputs": [
    {
     "name": "stdout",
     "output_type": "stream",
     "text": [
      "2019-07-31 14:45:17,422 INFO sqlalchemy.engine.base.Engine select relname from pg_class c join pg_namespace n on n.oid=c.relnamespace where pg_catalog.pg_table_is_visible(c.oid) and relname=%(name)s\n",
      "2019-07-31 14:45:17,423 INFO sqlalchemy.engine.base.Engine {'name': 'association'}\n",
      "2019-07-31 14:45:17,471 INFO sqlalchemy.engine.base.Engine select relname from pg_class c join pg_namespace n on n.oid=c.relnamespace where pg_catalog.pg_table_is_visible(c.oid) and relname=%(name)s\n",
      "2019-07-31 14:45:17,472 INFO sqlalchemy.engine.base.Engine {'name': 'images'}\n",
      "2019-07-31 14:45:17,473 INFO sqlalchemy.engine.base.Engine select relname from pg_class c join pg_namespace n on n.oid=c.relnamespace where pg_catalog.pg_table_is_visible(c.oid) and relname=%(name)s\n",
      "2019-07-31 14:45:17,474 INFO sqlalchemy.engine.base.Engine {'name': 'collections'}\n",
      "2019-07-31 14:45:17,475 INFO sqlalchemy.engine.base.Engine select relname from pg_class c join pg_namespace n on n.oid=c.relnamespace where pg_catalog.pg_table_is_visible(c.oid) and relname=%(name)s\n",
      "2019-07-31 14:45:17,476 INFO sqlalchemy.engine.base.Engine {'name': 'users'}\n",
      "2019-07-31 14:45:17,478 INFO sqlalchemy.engine.base.Engine select relname from pg_class c join pg_namespace n on n.oid=c.relnamespace where pg_catalog.pg_table_is_visible(c.oid) and relname=%(name)s\n",
      "2019-07-31 14:45:17,478 INFO sqlalchemy.engine.base.Engine {'name': 'keywords'}\n"
     ]
    }
   ],
   "source": [
    "import os\n",
    "# absolute path to the picture database\n",
    "pic_db_path = os.path.join(os.environ['HOME'], 'Dropbox/Icke/Bilder')\n",
    "# folder in db\n",
    "picture_folder = 'ClaraPix'\n",
    "    \n",
    "image_keywords_association = Table('association', Base.metadata, \n",
    "                                   Column('img_id', Integer, ForeignKey('images.id')),\n",
    "                                   Column('key_id', Integer, ForeignKey('keywords.id')))\n",
    "\n",
    "\n",
    "class Image(Base):\n",
    "    __tablename__ = 'images'\n",
    "    id = Column(Integer, primary_key=True)\n",
    "    title = Column(String(90))\n",
    "    path = Column(String(80), nullable=False)\n",
    "    date = Column(Date(), nullable=False)\n",
    "    date_assumed = Column(Boolean(), nullable=True)\n",
    "    note = Column(String(120))\n",
    "    helper = Column(String(80))\n",
    "    stars = Column(Integer())\n",
    "    \n",
    "    col_id = Column(Integer, ForeignKey('collections.id'))\n",
    "    collection = relationship(\"Collection\", back_populates='images')\n",
    "    \n",
    "    user_id = Column(Integer, ForeignKey('users.id'))\n",
    "    artist = relationship('User', back_populates='images')\n",
    "    \n",
    "    key_id = Column(Integer, ForeignKey('keywords.id'))\n",
    "    # here, backref is used to create an images field in the Keyword table\n",
    "    keywords = relationship('Keyword', secondary=image_keywords_association, backref='images')\n",
    "    \n",
    "    \n",
    "    def __repr__(self):\n",
    "        return f'<Image(\"{self.title}\" by {self.artist.name}, ~/{self.path})>'\n",
    "\n",
    "    \n",
    "class Collection(Base):\n",
    "    __tablename__ = 'collections'\n",
    "    id = Column(Integer, primary_key=True)\n",
    "    name = Column(String(80), nullable=False)\n",
    "    images = relationship('Image', back_populates='collection')\n",
    "\n",
    "    def __repr__(self):\n",
    "        return f\"<Collection(name:{self.name}, images:{len(self.images)})>\"\n",
    "\n",
    "class User(Base):\n",
    "    __tablename__ = 'users'\n",
    "    id = Column(Integer, primary_key=True)\n",
    "    name = Column(String(80), nullable=False)\n",
    "    types = Column(String(50))\n",
    "    age = Column(Integer)\n",
    "    images = relationship('Image', back_populates='artist')\n",
    "    \n",
    "    def __repr__(self):\n",
    "        return f\"<User(name:{self.name}, age:{self.age}, images:{len(self.images)})>\"\n",
    "    \n",
    "    \n",
    "class Keyword(Base):\n",
    "    __tablename__ = 'keywords'\n",
    "    id = Column(Integer, primary_key=True)\n",
    "    name = Column(String(50), nullable=False)\n",
    "    \n",
    "    def __repr__(self):\n",
    "        return f\"<Keyword(name={self.name}, images:{len(self.images)})>\"\n",
    "\n",
    "    \n",
    "Base.metadata.create_all(engine)"
   ]
  },
  {
   "cell_type": "markdown",
   "metadata": {},
   "source": [
    "### import table data to the database in a session"
   ]
  },
  {
   "cell_type": "code",
   "execution_count": 6,
   "metadata": {
    "ExecuteTime": {
     "end_time": "2019-07-31T12:45:25.329090Z",
     "start_time": "2019-07-31T12:45:25.325723Z"
    }
   },
   "outputs": [],
   "source": [
    "from sqlalchemy.orm import sessionmaker\n",
    "Base.metadata.bind = engine\n",
    "DBSession = sessionmaker(bind=engine)\n",
    "session = DBSession()"
   ]
  },
  {
   "cell_type": "code",
   "execution_count": 6,
   "metadata": {
    "ExecuteTime": {
     "end_time": "2019-07-16T13:15:17.534054Z",
     "start_time": "2019-07-16T13:15:17.514414Z"
    }
   },
   "outputs": [],
   "source": [
    "from datetime import date as dt\n",
    "title_pat = re.compile(r'^\\w')\n",
    "\n",
    "months = ['jan', 'feb', 'mär', 'apr', 'mai', 'jun', 'jul', 'aug', 'sep', 'okt', 'nov', 'dez']\n",
    "month_dict = {month[1]:month[0] + 1 for month in enumerate(months)}\n",
    "\n",
    "def str2date(string):\n",
    "    if pd.isnull(string) or string == '?':\n",
    "        return dt(2018, 1,1)\n",
    "    if '.' in string:\n",
    "        data = [int(num) for num in string.split('.')]\n",
    "        return dt(data[2], data[1], data[0])\n",
    "        \n",
    "    date = string.split(' ')\n",
    "    year = int(date[-1])\n",
    "    year = 2000 + year if (year < 2000) else year\n",
    "    month = date[0][:3].lower() if (len(date) - 1) else 'jan'\n",
    "    month = month_dict[month] if month in month_dict.keys() else 1\n",
    "    return dt(year, month, 1)\n",
    "\n",
    "def add2db(row):\n",
    "    '''\n",
    "    adds rows from the df to the database\n",
    "    '''\n",
    "    \n",
    "    # file and file check\n",
    "    file = f\"Clara{str(row['img # ']).zfill(4)}.jpg\"\n",
    "    # file path relative to database location\n",
    "    path = os.path.join(picture_folder, file)\n",
    "    abs_file = os.path.join(pic_db_path, path)\n",
    "    if not os.path.isfile(abs_file):\n",
    "        return f'File {path} does not exist'\n",
    "    title = row['Title'] if row['Title'] == row['Title'] else 'ohne Titel'\n",
    "    if not title_pat.match(title):\n",
    "        title = 'ohne Titel'\n",
    "        \n",
    "\n",
    "    name = row['Wer'] if pd.notnull(row['Wer']) else 'Clara'\n",
    "    stars = 0\n",
    "    \n",
    "    # if user exists, use this user\n",
    "    artist = session.query(User).filter_by(name = name).first()\n",
    "    # else create new user/artist\n",
    "    if not artist:\n",
    "        artist = User(name=name, age=6)\n",
    "    \n",
    "    # check if image already exists in db\n",
    "    image = session.query(Image).filter_by(title=title).filter_by(path=path).first()\n",
    "    if image:\n",
    "        return f'Image {image.title} exists!'\n",
    "    # create image instance\n",
    "    image = Image(title=title, path=path, artist=artist, note=row['Note'], date=str2date(row['Datum']))\n",
    "\n",
    "    if pd.notnull(row['Set']):\n",
    "        collection = session.query(Collection).filter_by(name = row['Set']).first()\n",
    "        if not collection:\n",
    "            collection = Collection(name=row['Set'])\n",
    "        image.collection = collection\n",
    "        \n",
    "    def get_key(key):\n",
    "        keyword = session.query(Keyword).filter_by(name = key.strip()).first()\n",
    "        keyword = keyword if keyword else Keyword(name=key.strip())\n",
    "        return keyword\n",
    "    \n",
    "    if pd.notnull(row['Key']):\n",
    "        image.keywords = [get_key(key) for key in row['Key'].split(',')]\n",
    "    if pd.notnull(row['Hilfe von']):\n",
    "        image.helper = row['Hilfe von']\n",
    "    date_assumed = row['Datum unbekannt'] in ['x',''] or (row['Datum'] in ['', '?'])\n",
    "    image.date_assumed = date_assumed\n",
    "    session.add(image)\n",
    "    return repr(image)"
   ]
  },
  {
   "cell_type": "code",
   "execution_count": 7,
   "metadata": {
    "ExecuteTime": {
     "end_time": "2019-07-16T13:15:21.404917Z",
     "start_time": "2019-07-16T13:15:19.169409Z"
    }
   },
   "outputs": [
    {
     "data": {
      "text/plain": [
       "0      <Image(\"Muster\" by Clara, ~/ClaraPix/Clara0001...\n",
       "1      <Image(\"Haus\" by Clara, ~/ClaraPix/Clara0002.j...\n",
       "2      <Image(\"Muster\" by Clara, ~/ClaraPix/Clara0003...\n",
       "3      <Image(\"Pythor\" by Clara, ~/ClaraPix/Clara0004...\n",
       "4      <Image(\"Herzmuster\" by Clara, ~/ClaraPix/Clara...\n",
       "5      <Image(\"Skizze Tänzerin\" by Clara, ~/ClaraPix/...\n",
       "6      <Image(\"Clara an der Straße\" by Clara, ~/Clara...\n",
       "7      <Image(\"Muster\" by Clara, ~/ClaraPix/Clara0008...\n",
       "8      <Image(\"Ninjago Truppe\" by Clara, ~/ClaraPix/C...\n",
       "9      <Image(\"Schlangenmuster\" by Clara, ~/ClaraPix/...\n",
       "10     <Image(\"Clara und Papa | Landschaft\" by Clara,...\n",
       "11     <Image(\"Predator X wartet auf Plesiosaurier | ...\n",
       "12     <Image(\"Clara im Auto\" by Clara, ~/ClaraPix/Cl...\n",
       "13     <Image(\"Grün\" by Clara, ~/ClaraPix/Clara0014.j...\n",
       "14     <Image(\"Fröhlicher Schmetterling\" by Clara, ~/...\n",
       "15     <Image(\"Clara unter dem Regenbogen\" by Clara, ...\n",
       "16     <Image(\"Durchschlafen für Anna + Elsa\" by Clar...\n",
       "17     <Image(\"shift\" by Clara, ~/ClaraPix/Clara0018....\n",
       "18     <Image(\"Planeten\" by Clara, ~/ClaraPix/Clara00...\n",
       "19     <Image(\"Einhörner am Ende des Regenbogens\" by ...\n",
       "20     <Image(\"Clara\" by Clara, ~/ClaraPix/Clara0021....\n",
       "21     <Image(\"Rapunzel feiert\" by Clara, ~/ClaraPix/...\n",
       "22     <Image(\"Der Goldene Schlüssel\" by Clara, ~/Cla...\n",
       "23     <Image(\"Dinge für \" by Clara, ~/ClaraPix/Clara...\n",
       "24     <Image(\"Prinzessin auf Blumenwiese\" by Clara, ...\n",
       "                             ...                        \n",
       "414    <Image(\"Schlangen-Vogel\" by Clara, ~/ClaraPix/...\n",
       "415    <Image(\"Dressur-Reiten\" by Clara, ~/ClaraPix/C...\n",
       "416    <Image(\"König der Vögel\" by Clara, ~/ClaraPix/...\n",
       "417    <Image(\"Clara reitet einen T-Rex\" by Clara, ~/...\n",
       "418    <Image(\"Wunschzettel 2018\" by Clara, ~/ClaraPi...\n",
       "419    <Image(\"Dinotrux1\" by Clara, ~/ClaraPix/Clara0...\n",
       "420    <Image(\"Lana\" by Clara, ~/ClaraPix/Clara0427.j...\n",
       "421    <Image(\"Einhorn und Pteranodon\" by Clara, ~/Cl...\n",
       "422    <Image(\"Clara reitet einen Besen\" by Clara, ~/...\n",
       "423           File ClaraPix/Clara0430.jpg does not exist\n",
       "424           File ClaraPix/Clara0431.jpg does not exist\n",
       "425           File ClaraPix/Clara0432.jpg does not exist\n",
       "426           File ClaraPix/Clara0433.jpg does not exist\n",
       "427           File ClaraPix/Clara0434.jpg does not exist\n",
       "428           File ClaraPix/Clara0435.jpg does not exist\n",
       "429           File ClaraPix/Clara0436.jpg does not exist\n",
       "430           File ClaraPix/Clara0437.jpg does not exist\n",
       "431           File ClaraPix/Clara0438.jpg does not exist\n",
       "432           File ClaraPix/Clara0439.jpg does not exist\n",
       "433           File ClaraPix/Clara0440.jpg does not exist\n",
       "434           File ClaraPix/Clara0441.jpg does not exist\n",
       "435           File ClaraPix/Clara0442.jpg does not exist\n",
       "436           File ClaraPix/Clara0443.jpg does not exist\n",
       "437           File ClaraPix/Clara0444.jpg does not exist\n",
       "438           File ClaraPix/Clara0445.jpg does not exist\n",
       "Length: 439, dtype: object"
      ]
     },
     "execution_count": 7,
     "metadata": {},
     "output_type": "execute_result"
    }
   ],
   "source": [
    "session.rollback()\n",
    "pic_table.apply(add2db, axis=1)\n",
    "session.commit()"
   ]
  },
  {
   "cell_type": "code",
   "execution_count": 31,
   "metadata": {
    "ExecuteTime": {
     "end_time": "2019-07-31T13:14:44.585956Z",
     "start_time": "2019-07-31T13:14:44.572098Z"
    }
   },
   "outputs": [
    {
     "name": "stdout",
     "output_type": "stream",
     "text": [
      "2019-07-31 15:14:44,574 INFO sqlalchemy.engine.base.Engine SELECT collections.id AS collections_id, collections.name AS collections_name \n",
      "FROM collections \n",
      " LIMIT %(param_1)s\n",
      "2019-07-31 15:14:44,575 INFO sqlalchemy.engine.base.Engine {'param_1': 1}\n"
     ]
    },
    {
     "data": {
      "text/plain": [
       "<Collection(name:Dino-Buch, images:4)>"
      ]
     },
     "execution_count": 31,
     "metadata": {},
     "output_type": "execute_result"
    },
    {
     "name": "stdout",
     "output_type": "stream",
     "text": [
      "2019-07-31 15:14:44,579 INFO sqlalchemy.engine.base.Engine SELECT images.id AS images_id, images.title AS images_title, images.path AS images_path, images.date AS images_date, images.date_assumed AS images_date_assumed, images.note AS images_note, images.helper AS images_helper, images.stars AS images_stars, images.col_id AS images_col_id, images.user_id AS images_user_id, images.key_id AS images_key_id \n",
      "FROM images \n",
      " LIMIT %(param_1)s OFFSET %(param_2)s\n",
      "2019-07-31 15:14:44,580 INFO sqlalchemy.engine.base.Engine {'param_1': 3, 'param_2': 3}\n"
     ]
    },
    {
     "data": {
      "text/plain": [
       "[<Image(\"Pythor\" by Clara, ~/ClaraPix/Clara0004.jpg)>,\n",
       " <Image(\"Herzmuster\" by Clara, ~/ClaraPix/Clara0005.jpg)>,\n",
       " <Image(\"Skizze Tänzerin\" by Clara, ~/ClaraPix/Clara0006.jpg)>]"
      ]
     },
     "execution_count": 31,
     "metadata": {},
     "output_type": "execute_result"
    }
   ],
   "source": [
    "session.query(Collection).first()\n",
    "session.query(Image)[3:6]"
   ]
  }
 ],
 "metadata": {
  "kernelspec": {
   "display_name": "Python 3",
   "language": "python",
   "name": "python3"
  },
  "language_info": {
   "codemirror_mode": {
    "name": "ipython",
    "version": 3
   },
   "file_extension": ".py",
   "mimetype": "text/x-python",
   "name": "python",
   "nbconvert_exporter": "python",
   "pygments_lexer": "ipython3",
   "version": "3.7.3"
  },
  "varInspector": {
   "cols": {
    "lenName": 16,
    "lenType": 16,
    "lenVar": 40
   },
   "kernels_config": {
    "python": {
     "delete_cmd_postfix": "",
     "delete_cmd_prefix": "del ",
     "library": "var_list.py",
     "varRefreshCmd": "print(var_dic_list())"
    },
    "r": {
     "delete_cmd_postfix": ") ",
     "delete_cmd_prefix": "rm(",
     "library": "var_list.r",
     "varRefreshCmd": "cat(var_dic_list()) "
    }
   },
   "types_to_exclude": [
    "module",
    "function",
    "builtin_function_or_method",
    "instance",
    "_Feature"
   ],
   "window_display": false
  }
 },
 "nbformat": 4,
 "nbformat_minor": 2
}
